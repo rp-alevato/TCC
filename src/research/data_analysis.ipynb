{
 "cells": [
  {
   "cell_type": "code",
   "execution_count": 1,
   "metadata": {},
   "outputs": [],
   "source": [
    "import numpy as np\n",
    "import pandas as pd\n",
    "import matplotlib.pyplot as plt\n",
    "%matplotlib inline"
   ]
  },
  {
   "cell_type": "code",
   "execution_count": 2,
   "metadata": {},
   "outputs": [],
   "source": [
    "from pathlib import Path\n",
    "\n",
    "pd.options.display.float_format = '{:,.4f}'.format\n",
    "root_dir = str(Path.cwd().parent.parent)\n",
    "\n",
    "fontprop = {'family': 'serif'}"
   ]
  },
  {
   "cell_type": "markdown",
   "metadata": {},
   "source": [
    "# Precisão"
   ]
  },
  {
   "cell_type": "code",
   "execution_count": 3,
   "metadata": {},
   "outputs": [],
   "source": [
    "def get_results_precision(filename):\n",
    "    data = pd.read_csv(root_dir + \"/data/experimental_results/precision/\" + filename, index_col=0, float_precision='high')\n",
    "    data = data[['mad_len', 'std_dev_len', 'mad_az', 'std_dev_az', 'mad_el', 'std_dev_el']]\n",
    "    print(data)"
   ]
  },
  {
   "cell_type": "code",
   "execution_count": 4,
   "metadata": {},
   "outputs": [
    {
     "name": "stdout",
     "output_type": "stream",
     "text": [
      "           mad_len  std_dev_len  mad_az  std_dev_az  mad_el  std_dev_el\n",
      "technique                                                              \n",
      "music       4.1975       8.6128  2.0365      8.5105  4.7399      6.5641\n",
      "esprit      4.6589       6.4586  1.8465      6.0749  5.3191      7.1224\n",
      "silabs      0.9300       1.1788  0.9057      1.1539  1.7972      2.2666\n",
      "           mad_len  std_dev_len  mad_az  std_dev_az  mad_el  std_dev_el\n",
      "technique                                                              \n",
      "music       3.4977      10.9712  2.8472     11.0574  5.8038      7.2491\n",
      "esprit      3.7891       5.9085  2.3586      6.6148  4.3858      6.0278\n",
      "silabs      1.3358       1.6246  1.3659      1.6542  1.9405      2.4688\n",
      "           mad_len  std_dev_len  mad_az  std_dev_az  mad_el  std_dev_el\n",
      "technique                                                              \n",
      "music       2.0604       6.0833  1.8215      6.5930  1.7973      2.9670\n",
      "esprit      2.2989       6.3690  2.1553     11.6199  3.0095      4.0780\n",
      "silabs      1.0005       1.2667  0.7524      0.9653  1.0893      1.3761\n"
     ]
    }
   ],
   "source": [
    "get_results_precision(\"fixed_1.csv\")\n",
    "get_results_precision(\"fixed_2.csv\")\n",
    "get_results_precision(\"fixed_3.csv\")"
   ]
  },
  {
   "cell_type": "markdown",
   "metadata": {},
   "source": [
    "# Hiperparâmetros"
   ]
  },
  {
   "cell_type": "markdown",
   "metadata": {},
   "source": [
    "## Busca grossa-fina"
   ]
  },
  {
   "cell_type": "code",
   "execution_count": 5,
   "metadata": {},
   "outputs": [],
   "source": [
    "data = pd.read_csv(root_dir + \"/data/experimental_results/hyperparameters/\" + \"coarse_fine_search.csv\", index_col=0, float_precision='high')\n",
    "data = data[['runtime', 'mae_len','rmse_len', 'rmse_len_99p']]\n",
    "data['runtime'] = data['runtime'] / 1000"
   ]
  },
  {
   "cell_type": "code",
   "execution_count": 6,
   "metadata": {},
   "outputs": [],
   "source": [
    "runtime_data = data['runtime'].values\n",
    "mae_data = data['mae_len'].values\n",
    "index = data.index.values\n",
    "fig = plt.figure(figsize=(7,4), dpi=300)\n",
    "ax1 = plt.axes()\n",
    "ax2 = ax1.twinx()\n",
    "lgd1 = ax1.plot(index, runtime_data, 'b-', label='Tempo ' + r'$ \\alpha $' +  ' estático')\n",
    "lgd2 = ax2.plot(index, mae_data, 'b--', label='MAE ' + r'$ \\alpha $' +  ' estático')\n",
    "ax1.set_xlabel('Passo Grosso (°)', fontprop)\n",
    "ax1.set_ylabel('Tempo (s)', fontprop)\n",
    "ax2.set_ylabel('MAE (°)', fontprop)\n",
    "lgd = lgd1 + lgd2\n",
    "labels = [l.get_label() for l in lgd]\n",
    "ax1.legend(lgd, labels, loc='upper left', prop=fontprop)\n",
    "plt.savefig(\"busca_grossa_fina_pg.png\", bbox_inches='tight', pad_inches=0)\n",
    "plt.close()"
   ]
  },
  {
   "cell_type": "code",
   "execution_count": 7,
   "metadata": {},
   "outputs": [
    {
     "name": "stdout",
     "output_type": "stream",
     "text": [
      "             runtime  mae_len  rmse_len  rmse_len_99p\n",
      "coarse_step                                          \n",
      "2            42.9763   0.1687    1.6013        0.1330\n",
      "3            21.6049   0.1944    1.8114        0.1350\n",
      "4            15.5510   0.2845    4.1453        0.1384\n",
      "5            13.7561   0.4787    9.0651        0.1381\n",
      "6            14.3563   0.4797    7.3349        0.1365\n",
      "7            16.2182   0.7028    9.2024        0.1990\n",
      "8            19.0011   0.7801    8.8870        0.2136\n",
      "9            22.1796   1.3267   14.5058        0.9829\n"
     ]
    }
   ],
   "source": [
    "print(data)"
   ]
  },
  {
   "cell_type": "markdown",
   "metadata": {},
   "source": [
    "## Gradiente Simples com learning rate fixo e adaptável"
   ]
  },
  {
   "cell_type": "code",
   "execution_count": 8,
   "metadata": {},
   "outputs": [],
   "source": [
    "data_f = pd.read_csv(root_dir + \"/data/experimental_results/hyperparameters/\" + \"gradient_simple.csv\", index_col=0, float_precision='high')\n",
    "data_f = data_f[['learning_rate', 'runtime', 'mae_len', 'rmse_len', 'rmse_len_99p']]\n",
    "data_f['runtime'] = data_f['runtime'] / 1000\n",
    "data_a = pd.read_csv(root_dir + \"/data/experimental_results/hyperparameters/\" + \"gradient_adapt_lr.csv\", index_col=0, float_precision='high')\n",
    "data_a = data_a[['learning_rate', 'runtime', 'mae_len', 'rmse_len', 'rmse_len_99p']]\n",
    "data_a['runtime'] = data_a['runtime'] / 1000"
   ]
  },
  {
   "cell_type": "markdown",
   "metadata": {},
   "source": [
    "### Alfa"
   ]
  },
  {
   "cell_type": "code",
   "execution_count": 9,
   "metadata": {},
   "outputs": [],
   "source": [
    "# Fix\n",
    "data_sliced = data_f.loc[(data_f.index == 5)]\n",
    "runtime_data = data_sliced['runtime'].values\n",
    "mae_data = data_sliced['mae_len'].values\n",
    "index = data_sliced['learning_rate'].values\n",
    "fig = plt.figure(figsize=(7,4), dpi=300)\n",
    "ax1 = plt.axes()\n",
    "ax2 = ax1.twinx()\n",
    "ax1.plot(index, runtime_data, 'b-', label='Tempo ' + r'$ \\alpha $' +  ' estático')\n",
    "ax2.plot(index, mae_data, 'b--', label='MAE ' + r'$ \\alpha $' +  ' estático')\n",
    "ax1.set_xlabel('$\\it{Learning\\ rate}$', fontprop)\n",
    "ax1.set_ylabel('Tempo (s)', fontprop)\n",
    "ax2.set_ylabel('MAE (°)', fontprop)\n",
    "# Adapt\n",
    "data_sliced = data_a.loc[(data_a.index == 5)]\n",
    "runtime_data = data_sliced['runtime'].values\n",
    "mae_data = data_sliced['mae_len'].values\n",
    "index = data_sliced['learning_rate'].values\n",
    "ax1.plot(index, runtime_data, 'r-', label='Tempo ' + r'$ \\alpha $' +  ' Adaptável')\n",
    "ax2.plot(index, mae_data, 'r--', label='MAE ' + r'$ \\alpha $' +  ' Adaptável')\n",
    "ax1.legend(loc='upper left', prop=fontprop)\n",
    "ax2.legend(loc='upper right', prop=fontprop)\n",
    "plt.savefig(\"gradiente_simples_alfa.png\", bbox_inches='tight', pad_inches=0)\n",
    "plt.close()"
   ]
  },
  {
   "cell_type": "markdown",
   "metadata": {},
   "source": [
    "### Passo Grosso"
   ]
  },
  {
   "cell_type": "code",
   "execution_count": 10,
   "metadata": {},
   "outputs": [],
   "source": [
    "# Fix\n",
    "data_sliced = data_f.loc[(data_f['learning_rate'] == 0.1)]\n",
    "runtime_data = data_sliced['runtime'].values\n",
    "mae_data = data_sliced['mae_len'].values\n",
    "index = data_sliced.index.values\n",
    "fig = plt.figure(figsize=(7,4), dpi=300)\n",
    "ax1 = plt.axes()\n",
    "ax2 = ax1.twinx()\n",
    "ax1.plot(index, runtime_data, 'b-', label='Tempo ' + r'$ \\alpha $' +  ' estático')\n",
    "ax2.plot(index, mae_data, 'b--', label='MAE ' + r'$ \\alpha $' +  ' estático')\n",
    "ax1.set_xlabel('Passo Grosso (°)', fontprop)\n",
    "ax1.set_ylabel('Tempo (s)', fontprop)\n",
    "ax2.set_ylabel('MAE (°)', fontprop)\n",
    "# Adapt\n",
    "data_sliced = data_a.loc[(data_a['learning_rate'] == 0.7)]\n",
    "runtime_data = data_sliced['runtime'].values\n",
    "mae_data = data_sliced['mae_len'].values\n",
    "index = data_sliced.index.values\n",
    "ax1.plot(index, runtime_data, 'r-', label='Tempo ' + r'$ \\alpha $' +  ' Adaptável')\n",
    "ax2.plot(index, mae_data, 'r--', label='MAE ' + r'$ \\alpha $' +  ' Adaptável')\n",
    "ax1.legend(loc='upper left', prop=fontprop)\n",
    "ax2.legend(loc='upper right', prop=fontprop)\n",
    "plt.savefig(\"gradiente_simples_pg.png\", bbox_inches='tight', pad_inches=0)\n",
    "plt.close()"
   ]
  },
  {
   "cell_type": "markdown",
   "metadata": {},
   "source": [
    "### Melhores hiperparâmetros"
   ]
  },
  {
   "cell_type": "markdown",
   "metadata": {},
   "source": [
    "#### LR Fixo"
   ]
  },
  {
   "cell_type": "code",
   "execution_count": 11,
   "metadata": {},
   "outputs": [
    {
     "name": "stdout",
     "output_type": "stream",
     "text": [
      "             learning_rate  runtime  mae_len  rmse_len  rmse_len_99p\n",
      "coarse_step                                                         \n",
      "5                   0.1000  11.1536   0.2071    4.1054        0.1155\n",
      "5                   0.0900  11.3634   0.2031    4.1046        0.1105\n",
      "5                   0.0700  12.1642   0.1995    4.1069        0.1037\n",
      "5                   0.0500  13.8613   0.1994    4.1134        0.1002\n",
      "3                   0.1000  22.1204   0.2937    8.2159        0.1109\n",
      "             learning_rate  runtime  mae_len  rmse_len  rmse_len_99p\n",
      "coarse_step                                                         \n",
      "11                  0.1000   7.8568   1.0721   14.2961        0.2689\n",
      "11                  0.0900   8.2288   1.0765   14.3063        0.2456\n",
      "8                   0.1000   8.5228   0.5167    8.1139        0.1796\n",
      "12                  0.0900   8.5654   1.4533   17.6927        0.2909\n",
      "8                   0.0900   8.8337   0.5202    8.1318        0.1643\n"
     ]
    }
   ],
   "source": [
    "data_sliced = data_f.loc[(data_f['mae_len'] < 0.3)]\n",
    "data_sliced = data_sliced.sort_values(by=['runtime', 'rmse_len'])\n",
    "data_sliced = data_sliced[:5]\n",
    "print(data_sliced)\n",
    "data_sliced = data_f.loc[(data_f['rmse_len_99p'] < 0.3)]\n",
    "data_sliced = data_sliced.sort_values(by=['runtime', 'rmse_len'])\n",
    "data_sliced = data_sliced[:5]\n",
    "print(data_sliced)"
   ]
  },
  {
   "cell_type": "markdown",
   "metadata": {},
   "source": [
    "#### LR Adaptável"
   ]
  },
  {
   "cell_type": "code",
   "execution_count": 12,
   "metadata": {},
   "outputs": [
    {
     "name": "stdout",
     "output_type": "stream",
     "text": [
      "             learning_rate  runtime  mae_len  rmse_len  rmse_len_99p\n",
      "coarse_step                                                         \n",
      "5                   0.8000   8.0548   0.1903    4.0938        0.0982\n",
      "5                   0.7000   8.1033   0.1907    4.0940        0.0989\n",
      "5                   0.6000   8.1147   0.1913    4.0941        0.0991\n",
      "5                   0.5000   8.1927   0.1923    4.0946        0.0994\n",
      "5                   0.4000   8.3430   0.1936    4.0957        0.0997\n",
      "             learning_rate  runtime  mae_len  rmse_len  rmse_len_99p\n",
      "coarse_step                                                         \n",
      "14                  0.8000   2.7910   1.6515   17.6669        0.2841\n",
      "13                  0.9000   2.8062   1.2990   14.6818        0.1965\n",
      "13                  0.8000   2.8364   1.2993   14.6818        0.1968\n",
      "14                  0.7000   2.8814   1.6520   17.6670        0.2850\n",
      "13                  0.7000   2.9322   1.2998   14.6819        0.1982\n"
     ]
    }
   ],
   "source": [
    "data_sliced = data_a.loc[(data_a['mae_len'] < 0.3)]\n",
    "data_sliced = data_sliced.sort_values(by=['runtime', 'rmse_len'])\n",
    "data_sliced = data_sliced[:5]\n",
    "print(data_sliced)\n",
    "data_sliced = data_a.loc[(data_a['rmse_len_99p'] < 0.3)]\n",
    "data_sliced = data_sliced.sort_values(by=['runtime', 'rmse_len'])\n",
    "data_sliced = data_sliced[:5]\n",
    "print(data_sliced)"
   ]
  },
  {
   "cell_type": "markdown",
   "metadata": {},
   "source": [
    "## Momentum e Nesterov"
   ]
  },
  {
   "cell_type": "code",
   "execution_count": 13,
   "metadata": {},
   "outputs": [],
   "source": [
    "data_m = pd.read_csv(root_dir + \"/data/experimental_results/hyperparameters/\" + \"gradient_momentum.csv\", index_col=0, float_precision='high')\n",
    "data_m = data_m[['learning_rate', 'momentum', 'runtime', 'mae_len', 'rmse_len', 'rmse_len_99p']]\n",
    "data_m = data_m.loc[(data_m['learning_rate'] >= 0.01)]\n",
    "data_m['runtime'] = data_m['runtime'] / 1000\n",
    "data_n = pd.read_csv(root_dir + \"/data/experimental_results/hyperparameters/\" + \"gradient_nesterov.csv\", index_col=0, float_precision='high')\n",
    "data_n = data_n[['learning_rate', 'momentum', 'runtime', 'mae_len', 'rmse_len', 'rmse_len_99p']]\n",
    "data_n = data_n.loc[(data_n['learning_rate'] >= 0.01)]\n",
    "data_n['runtime'] = data_n['runtime'] / 1000"
   ]
  },
  {
   "cell_type": "markdown",
   "metadata": {},
   "source": [
    "### Beta"
   ]
  },
  {
   "cell_type": "code",
   "execution_count": 14,
   "metadata": {},
   "outputs": [],
   "source": [
    "# Momentum\n",
    "data_sliced = data_m.loc[(data_m.index == 5) & (data_m['learning_rate'] == 0.07)]\n",
    "runtime_data = data_sliced['runtime'].values\n",
    "mae_data = data_sliced['mae_len'].values\n",
    "index = data_sliced['momentum'].values\n",
    "fig = plt.figure(figsize=(7,4), dpi=300)\n",
    "ax1 = plt.axes()\n",
    "ax2 = ax1.twinx()\n",
    "ax1.plot(index, runtime_data, 'b-', label='Tempo Momentum')\n",
    "ax2.plot(index, mae_data, 'b--', label='MAE Momentum')\n",
    "ax1.set_xlabel('Momentum', fontprop)\n",
    "ax1.set_ylabel('Tempo (s)', fontprop)\n",
    "ax2.set_ylabel('MAE (°)', fontprop)\n",
    "# Nesterov\n",
    "data_sliced = data_n.loc[(data_n.index == 5) & (data_n['learning_rate'] == 0.07)]\n",
    "runtime_data = data_sliced['runtime'].values\n",
    "mae_data = data_sliced['mae_len'].values\n",
    "index = data_sliced['momentum'].values\n",
    "ax1.plot(index, runtime_data, 'r-', label='Tempo Nesterov')\n",
    "ax2.plot(index, mae_data, 'r--', label='MAE Nesterov')\n",
    "ax1.legend(loc='upper left', prop=fontprop)\n",
    "ax2.legend(loc='upper right', prop=fontprop)\n",
    "plt.savefig(\"momentum_beta.png\", bbox_inches='tight', pad_inches=0)\n",
    "plt.close()"
   ]
  },
  {
   "cell_type": "markdown",
   "metadata": {},
   "source": [
    "### Alfa"
   ]
  },
  {
   "cell_type": "code",
   "execution_count": 15,
   "metadata": {},
   "outputs": [],
   "source": [
    "# Momentum\n",
    "data_sliced = data_m.loc[(data_m.index == 5) & (data_m['momentum'] == 0.9)]\n",
    "runtime_data = data_sliced['runtime'].values\n",
    "mae_data = data_sliced['mae_len'].values\n",
    "index = data_sliced['learning_rate'].values\n",
    "fig = plt.figure(figsize=(7,4), dpi=300)\n",
    "ax1 = plt.axes()\n",
    "ax2 = ax1.twinx()\n",
    "ax1.plot(index, runtime_data, 'b-', label='Tempo Momentum')\n",
    "ax2.plot(index, mae_data, 'b--', label='MAE Momentum')\n",
    "ax1.set_xlabel('$\\it{Learning\\ rate}$', fontprop)\n",
    "ax1.set_ylabel('Tempo (s)', fontprop)\n",
    "ax2.set_ylabel('MAE (°)', fontprop)\n",
    "# Nesterov\n",
    "data_sliced = data_n.loc[(data_n.index == 5) & (data_n['momentum'] == 0.9)]\n",
    "runtime_data = data_sliced['runtime'].values\n",
    "mae_data = data_sliced['mae_len'].values\n",
    "index = data_sliced['learning_rate'].values\n",
    "ax1.plot(index, runtime_data, 'r-', label='Tempo Nesterov')\n",
    "ax2.plot(index, mae_data, 'r--', label='MAE Nesterov')\n",
    "ax1.legend(loc='upper left', prop=fontprop)\n",
    "ax2.legend(loc='upper right', prop=fontprop)\n",
    "plt.savefig(\"momentum_alfa.png\", bbox_inches='tight', pad_inches=0)\n",
    "plt.close()"
   ]
  },
  {
   "cell_type": "markdown",
   "metadata": {},
   "source": [
    "### Passo Grosso"
   ]
  },
  {
   "cell_type": "code",
   "execution_count": 16,
   "metadata": {},
   "outputs": [],
   "source": [
    "# Momentum\n",
    "data_sliced = data_m.loc[(data_m['learning_rate'] == 0.07) & (data_m['momentum'] == 0.9)]\n",
    "runtime_data = data_sliced['runtime'].values\n",
    "mae_data = data_sliced['mae_len'].values\n",
    "index = data_sliced.index.values\n",
    "fig = plt.figure(figsize=(7,4), dpi=300)\n",
    "ax1 = plt.axes()\n",
    "ax2 = ax1.twinx()\n",
    "ax1.plot(index, runtime_data, 'b-', label='Tempo Momentum')\n",
    "ax2.plot(index, mae_data, 'b--', label='MAE Momentum')\n",
    "ax1.set_xlabel('Passo Grosso (°)', fontprop)\n",
    "ax1.set_ylabel('Tempo (s)', fontprop)\n",
    "ax2.set_ylabel('MAE (°)', fontprop)\n",
    "# Nesterov\n",
    "data_sliced = data_n.loc[(data_n['learning_rate'] == 0.07) & (data_n['momentum'] == 0.9)]\n",
    "runtime_data = data_sliced['runtime'].values\n",
    "mae_data = data_sliced['mae_len'].values\n",
    "index = data_sliced.index.values\n",
    "ax1.plot(index, runtime_data, 'r-', label='Tempo Nesterov')\n",
    "ax2.plot(index, mae_data, 'r--', label='MAE Nesterov')\n",
    "ax1.legend(loc='upper left', prop=fontprop)\n",
    "ax2.legend(loc='upper right', prop=fontprop)\n",
    "plt.savefig(\"momentum_pg.png\", bbox_inches='tight', pad_inches=0)\n",
    "plt.close()"
   ]
  },
  {
   "cell_type": "markdown",
   "metadata": {},
   "source": [
    "### Melhores hiperparâmetros"
   ]
  },
  {
   "cell_type": "markdown",
   "metadata": {},
   "source": [
    "#### Momentum"
   ]
  },
  {
   "cell_type": "code",
   "execution_count": 17,
   "metadata": {},
   "outputs": [
    {
     "name": "stdout",
     "output_type": "stream",
     "text": [
      "             learning_rate  momentum  runtime  mae_len  rmse_len  rmse_len_99p\n",
      "coarse_step                                                                   \n",
      "5                   0.1000    0.8000   8.1216   0.1909    4.0932        0.0986\n",
      "5                   0.1000    0.8500   8.1477   0.1894    4.0940        0.0974\n",
      "5                   0.0900    0.8000   8.1788   0.1912    4.0933        0.0989\n",
      "5                   0.0900    0.8500   8.1819   0.1897    4.0936        0.0983\n",
      "5                   0.1000    0.7500   8.1836   0.1912    4.0935        0.0989\n",
      "             learning_rate  momentum  runtime  mae_len  rmse_len  rmse_len_99p\n",
      "coarse_step                                                                   \n",
      "13                  0.1000    0.8500   2.9089   1.2967   14.6823        0.1948\n",
      "14                  0.0900    0.8500   2.9172   1.6500   17.6665        0.2839\n",
      "14                  0.1000    0.8500   2.9179   1.6511   17.6664        0.2949\n",
      "14                  0.1000    0.8000   2.9315   1.6509   17.6668        0.2843\n",
      "13                  0.1000    0.8000   2.9945   1.2992   14.6818        0.1973\n"
     ]
    }
   ],
   "source": [
    "data_sliced = data_m.loc[(data_m['mae_len'] < 0.3)]\n",
    "data_sliced = data_sliced.sort_values(by=['runtime', 'rmse_len'])\n",
    "data_sliced = data_sliced[:5]\n",
    "print(data_sliced)\n",
    "data_sliced = data_m.loc[(data_m['rmse_len_99p'] < 0.3)]\n",
    "data_sliced = data_sliced.sort_values(by=['runtime', 'rmse_len'])\n",
    "data_sliced = data_sliced[:5]\n",
    "print(data_sliced)"
   ]
  },
  {
   "cell_type": "markdown",
   "metadata": {},
   "source": [
    "#### Nesterov"
   ]
  },
  {
   "cell_type": "code",
   "execution_count": 18,
   "metadata": {},
   "outputs": [
    {
     "name": "stdout",
     "output_type": "stream",
     "text": [
      "             learning_rate  momentum  runtime  mae_len  rmse_len  rmse_len_99p\n",
      "coarse_step                                                                   \n",
      "5                   0.0500    0.9000   8.3772   0.1899    4.0934        0.1010\n",
      "5                   0.0500    0.8500   8.4950   0.1919    4.0933        0.1025\n",
      "5                   0.0500    0.9500   8.5126   0.1840    4.0931        0.0929\n",
      "5                   0.0700    0.9000   8.5766   0.1921    4.0948        0.1103\n",
      "5                   0.0300    0.9000   8.5957   0.1903    4.0932        0.0989\n",
      "             learning_rate  momentum  runtime  mae_len  rmse_len  rmse_len_99p\n",
      "coarse_step                                                                   \n",
      "14                  0.0500    0.9500   3.1806   1.6431   17.6657        0.2823\n",
      "14                  0.0500    0.9000   3.1947   1.6502   17.6668        0.2863\n",
      "14                  0.0700    0.9000   3.2433   1.6523   17.6662        0.2960\n",
      "13                  0.0500    0.9500   3.2635   1.2910   14.6818        0.1920\n",
      "13                  0.0500    0.9000   3.2836   1.2982   14.6824        0.1993\n"
     ]
    }
   ],
   "source": [
    "data_sliced = data_n.loc[(data_n['mae_len'] < 0.3)]\n",
    "data_sliced = data_sliced.sort_values(by=['runtime', 'rmse_len'])\n",
    "data_sliced = data_sliced[:5]\n",
    "print(data_sliced)\n",
    "data_sliced = data_n.loc[(data_n['rmse_len_99p'] < 0.3)]\n",
    "data_sliced = data_sliced.sort_values(by=['runtime', 'rmse_len'])\n",
    "data_sliced = data_sliced[:5]\n",
    "print(data_sliced)"
   ]
  },
  {
   "cell_type": "markdown",
   "metadata": {},
   "source": [
    "# Acurácia e Runtime"
   ]
  },
  {
   "cell_type": "code",
   "execution_count": 19,
   "metadata": {},
   "outputs": [
    {
     "name": "stdout",
     "output_type": "stream",
     "text": [
      "                                 runtime  mae_len  rmse_len\n",
      "technique                                                  \n",
      "esprit                            1.6537   0.0000    0.0000\n",
      "music_coarse_fine_grid_search   108.1367   0.3367    7.2494\n",
      "music_gradient_simple            56.8658   0.2845    6.2201\n",
      "music_gradient_adapt_lr          39.9917   0.3205    7.2172\n",
      "music_gradient_momentum          41.2383   0.2796    6.5136\n",
      "music_gradient_nesterov          43.1562   0.2588    6.2032\n",
      "music_fine_grid_search        8,917.4060   0.1963    5.0916\n"
     ]
    }
   ],
   "source": [
    "data = pd.read_csv(root_dir + \"/data/experimental_results/accuracy_runtime.csv\", index_col=0, float_precision='high')\n",
    "data['runtime'] = data['runtime'] / 1000\n",
    "data = data[['runtime', 'mae_len', 'rmse_len']]\n",
    "print(data)"
   ]
  }
 ],
 "metadata": {
  "interpreter": {
   "hash": "ad99d1c8d28ff7c16a4a8ebce4cff687d23fe31bc811d8eebe7be1135de10c35"
  },
  "kernelspec": {
   "display_name": "Python 3.8.12 ('dev')",
   "language": "python",
   "name": "python3"
  },
  "language_info": {
   "codemirror_mode": {
    "name": "ipython",
    "version": 3
   },
   "file_extension": ".py",
   "mimetype": "text/x-python",
   "name": "python",
   "nbconvert_exporter": "python",
   "pygments_lexer": "ipython3",
   "version": "3.8.12"
  },
  "orig_nbformat": 4
 },
 "nbformat": 4,
 "nbformat_minor": 2
}
