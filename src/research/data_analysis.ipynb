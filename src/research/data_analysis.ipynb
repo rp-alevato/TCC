{
 "cells": [
  {
   "cell_type": "code",
   "execution_count": 31,
   "metadata": {},
   "outputs": [],
   "source": [
    "import numpy as np\n",
    "import pandas as pd\n",
    "import matplotlib.pyplot as plt\n",
    "%matplotlib inline"
   ]
  },
  {
   "cell_type": "code",
   "execution_count": 23,
   "metadata": {},
   "outputs": [],
   "source": [
    "from pathlib import Path\n",
    "\n",
    "root_dir = str(Path.cwd().parent.parent)"
   ]
  },
  {
   "cell_type": "markdown",
   "metadata": {},
   "source": [
    "# Precisão"
   ]
  },
  {
   "cell_type": "code",
   "execution_count": 103,
   "metadata": {},
   "outputs": [],
   "source": [
    "def get_results_precision(filename):\n",
    "    data = pd.read_csv(root_dir + \"/data/experimental_results/precision/\" + filename, index_col=0, float_precision='high')\n",
    "    data = data[['mad_len', 'std_dev_len', 'mad_az', 'std_dev_az', 'mad_el', 'std_dev_el']]\n",
    "    latex_table = data.style.to_latex()\n",
    "    print(latex_table)"
   ]
  },
  {
   "cell_type": "code",
   "execution_count": 104,
   "metadata": {},
   "outputs": [
    {
     "name": "stdout",
     "output_type": "stream",
     "text": [
      "\\begin{tabular}{lrrrrrr}\n",
      " & mad_len & std_dev_len & mad_az & std_dev_az & mad_el & std_dev_el \\\\\n",
      "technique &  &  &  &  &  &  \\\\\n",
      "music & 4.197528 & 8.612813 & 2.036548 & 8.510494 & 4.739931 & 6.564069 \\\\\n",
      "esprit & 4.658870 & 6.458632 & 1.846517 & 6.074861 & 5.319081 & 7.122427 \\\\\n",
      "silabs & 0.930003 & 1.178847 & 0.905716 & 1.153918 & 1.797227 & 2.266616 \\\\\n",
      "\\end{tabular}\n",
      "\n",
      "\\begin{tabular}{lrrrrrr}\n",
      " & mad_len & std_dev_len & mad_az & std_dev_az & mad_el & std_dev_el \\\\\n",
      "technique &  &  &  &  &  &  \\\\\n",
      "music & 3.497742 & 10.971227 & 2.847164 & 11.057384 & 5.803826 & 7.249133 \\\\\n",
      "esprit & 3.789124 & 5.908459 & 2.358634 & 6.614791 & 4.385807 & 6.027849 \\\\\n",
      "silabs & 1.335762 & 1.624595 & 1.365881 & 1.654227 & 1.940468 & 2.468779 \\\\\n",
      "\\end{tabular}\n",
      "\n",
      "\\begin{tabular}{lrrrrrr}\n",
      " & mad_len & std_dev_len & mad_az & std_dev_az & mad_el & std_dev_el \\\\\n",
      "technique &  &  &  &  &  &  \\\\\n",
      "music & 2.060442 & 6.083281 & 1.821462 & 6.593002 & 1.797321 & 2.967019 \\\\\n",
      "esprit & 2.298926 & 6.369004 & 2.155298 & 11.619909 & 3.009505 & 4.077999 \\\\\n",
      "silabs & 1.000511 & 1.266674 & 0.752366 & 0.965308 & 1.089298 & 1.376099 \\\\\n",
      "\\end{tabular}\n",
      "\n"
     ]
    }
   ],
   "source": [
    "get_results_precision(\"fixed_1.csv\")\n",
    "get_results_precision(\"fixed_2.csv\")\n",
    "get_results_precision(\"fixed_3.csv\")"
   ]
  },
  {
   "cell_type": "markdown",
   "metadata": {},
   "source": [
    "# Hiperparâmetros"
   ]
  },
  {
   "cell_type": "markdown",
   "metadata": {},
   "source": [
    "## Busca grossa-fina"
   ]
  },
  {
   "cell_type": "code",
   "execution_count": 26,
   "metadata": {},
   "outputs": [
    {
     "name": "stdout",
     "output_type": "stream",
     "text": [
      "\\begin{tabular}{lrrrr}\n",
      " & runtime & mae_len & rmse_len & rmse_len_99p \\\\\n",
      "coarse_step &  &  &  &  \\\\\n",
      "2 & 7.059155 & 0.130431 & 1.596446 & 0.092674 \\\\\n",
      "3 & 3.843849 & 0.156640 & 1.818315 & 0.095617 \\\\\n",
      "4 & 3.279692 & 0.247761 & 4.142792 & 0.100221 \\\\\n",
      "5 & 3.430512 & 0.262222 & 4.170201 & 0.097209 \\\\\n",
      "6 & 3.949999 & 0.442563 & 7.335439 & 0.095240 \\\\\n",
      "7 & 4.860621 & 0.664788 & 9.204467 & 0.180959 \\\\\n",
      "8 & 5.985516 & 0.741939 & 8.878081 & 0.196430 \\\\\n",
      "9 & 7.184012 & 1.290702 & 14.509010 & 0.985143 \\\\\n",
      "\\end{tabular}\n",
      "\n"
     ]
    }
   ],
   "source": [
    "data = pd.read_csv(root_dir + \"/data/experimental_results/hyperparameters/\" + \"coarse_fine_search.csv\", index_col=0, float_precision='high')\n",
    "data = data[['runtime', 'mae_len','rmse_len', 'rmse_len_99p']]\n",
    "data['runtime'] = data['runtime'] / 1000\n",
    "latex_table = data.style.to_latex()\n",
    "print(latex_table)"
   ]
  },
  {
   "cell_type": "markdown",
   "metadata": {},
   "source": [
    "## Gradiente Simples com learning rate fixo e adaptável"
   ]
  },
  {
   "cell_type": "code",
   "execution_count": 43,
   "metadata": {},
   "outputs": [],
   "source": [
    "data_f = pd.read_csv(root_dir + \"/data/experimental_results/hyperparameters/\" + \"gradient_simple.csv\", index_col=0, float_precision='high')\n",
    "data_f = data_f[['learning_rate', 'runtime', 'mae_len', 'rmse_len', 'rmse_len_99p']]\n",
    "data_f['runtime'] = data_f['runtime'] / 1000\n",
    "data_a = pd.read_csv(root_dir + \"/data/experimental_results/hyperparameters/\" + \"gradient_adapt_lr.csv\", index_col=0, float_precision='high')\n",
    "data_a = data_a[['learning_rate', 'runtime', 'mae_len', 'rmse_len', 'rmse_len_99p']]\n",
    "data_a['runtime'] = data_a['runtime'] / 1000"
   ]
  },
  {
   "cell_type": "markdown",
   "metadata": {},
   "source": [
    "### Alfa"
   ]
  },
  {
   "cell_type": "code",
   "execution_count": 66,
   "metadata": {},
   "outputs": [],
   "source": [
    "data_sliced = data_f.loc[(data_f.index == 4)]\n",
    "runtime_data = data_sliced['runtime'].values\n",
    "rmse_data = data_sliced['rmse_len'].values\n",
    "index = data_sliced['learning_rate'].values\n",
    "fig = plt.figure(figsize=(10,12), dpi=200)\n",
    "plt.rcParams['text.usetex'] = True\n",
    "plt.rcParams['font.family'] = ['serif']\n",
    "plt.rcParams['font.serif'] = ['Latin Modern Roman']\n",
    "ax1 = plt.axes()\n",
    "ax2 = ax1.twinx()\n",
    "lgd1 = ax1.plot(index, runtime_data, 'b-', label='Tempo Gradiente Simples')\n",
    "lgd2 = ax2.plot(index, rmse_data, 'b--', label='RMSE Gradiente Simples')\n",
    "ax1.set_xlabel('$\\it{Learning\\ Rate}$')\n",
    "ax1.set_ylabel('Tempo (s)')\n",
    "ax2.set_ylabel('RMSE')\n",
    "lgd = lgd1 + lgd2\n",
    "labels = [l.get_label() for l in lgd]\n",
    "ax1.legend(lgd, labels, loc='upper left')\n",
    "plt.savefig(\"hp_gradiente_simples_alfa.png\", bbox_inches='tight', pad_inches=0)\n",
    "plt.close()"
   ]
  },
  {
   "cell_type": "code",
   "execution_count": 68,
   "metadata": {},
   "outputs": [],
   "source": [
    "data_sliced = data_a.loc[(data_a.index == 4)]\n",
    "runtime_data = data_sliced['runtime'].values\n",
    "rmse_data = data_sliced['rmse_len'].values\n",
    "index = data_sliced['learning_rate'].values\n",
    "fig = plt.figure(figsize=(10,12), dpi=200)\n",
    "plt.rcParams['text.usetex'] = True\n",
    "plt.rcParams['font.family'] = ['serif']\n",
    "plt.rcParams['font.serif'] = ['Latin Modern Roman']\n",
    "ax1 = plt.axes()\n",
    "ax2 = ax1.twinx()\n",
    "lgd1 = ax1.plot(index, runtime_data, 'b-', label='Tempo Gradiente LR Adaptável')\n",
    "lgd2 = ax2.plot(index, rmse_data, 'b--', label='RMSE Gradiente LR Adaptável')\n",
    "ax1.set_xlabel('$\\it{Learning\\ Rate}$')\n",
    "ax1.set_ylabel('Tempo (s)')\n",
    "ax2.set_ylabel('RMSE')\n",
    "lgd = lgd1 + lgd2\n",
    "labels = [l.get_label() for l in lgd]\n",
    "ax1.legend(lgd, labels, loc='upper left')\n",
    "plt.savefig(\"hp_gradiente_simples_adapt_alfa.png\", bbox_inches='tight', pad_inches=0)\n",
    "plt.close()"
   ]
  },
  {
   "cell_type": "markdown",
   "metadata": {},
   "source": [
    "### Passo Grosso"
   ]
  },
  {
   "cell_type": "code",
   "execution_count": 70,
   "metadata": {},
   "outputs": [],
   "source": [
    "# Fix\n",
    "data_sliced = data_f.loc[(data_f['learning_rate'] == 0.1)]\n",
    "runtime_data = data_sliced['runtime'].values\n",
    "rmse_data = data_sliced['rmse_len'].values\n",
    "index = data_sliced.index.values\n",
    "fig = plt.figure(figsize=(10,12), dpi=200)\n",
    "plt.rcParams['text.usetex'] = True\n",
    "plt.rcParams['font.family'] = ['serif']\n",
    "plt.rcParams['font.serif'] = ['Latin Modern Roman']\n",
    "ax1 = plt.axes()\n",
    "ax2 = ax1.twinx()\n",
    "ax1.plot(index, runtime_data, 'b-', label='Tempo Gradiente Simples')\n",
    "ax2.plot(index, rmse_data, 'b--', label='RMSE Gradiente Simples')\n",
    "ax1.set_xlabel('Passo Grosso (°)')\n",
    "ax1.set_ylabel('Tempo (s)')\n",
    "ax2.set_ylabel('RMSE')\n",
    "# Adapt\n",
    "data_sliced = data_a.loc[(data_a['learning_rate'] == 0.7)]\n",
    "runtime_data = data_sliced['runtime'].values\n",
    "rmse_data = data_sliced['rmse_len'].values\n",
    "index = data_sliced.index.values\n",
    "ax1.plot(index, runtime_data, 'r-', label='Tempo Gradiente LR Adaptável')\n",
    "ax2.plot(index, rmse_data, 'r--', label='RMSE Gradiente LR Adaptável')\n",
    "ax1.legend(loc='upper left')\n",
    "ax2.legend(loc='upper right')\n",
    "plt.savefig(\"hp_gradiente_simples_pg.png\", bbox_inches='tight', pad_inches=0)\n",
    "plt.close()"
   ]
  },
  {
   "cell_type": "markdown",
   "metadata": {},
   "source": [
    "### Melhores hiperparâmetros"
   ]
  },
  {
   "cell_type": "markdown",
   "metadata": {},
   "source": [
    "#### LR Fixo"
   ]
  },
  {
   "cell_type": "code",
   "execution_count": 71,
   "metadata": {},
   "outputs": [
    {
     "name": "stdout",
     "output_type": "stream",
     "text": [
      "\\begin{tabular}{lrrrrr}\n",
      " & learning_rate & runtime & mae_len & rmse_len & rmse_len_99p \\\\\n",
      "coarse_step &  &  &  &  &  \\\\\n",
      "3 & 0.100000 & 3.925180 & 0.074532 & 1.572902 & 0.025129 \\\\\n",
      "3 & 0.090000 & 4.006655 & 0.070245 & 1.574375 & 0.024525 \\\\\n",
      "3 & 0.070000 & 4.292127 & 0.066343 & 1.585451 & 0.023804 \\\\\n",
      "3 & 0.050000 & 4.719304 & 0.067174 & 1.604323 & 0.023876 \\\\\n",
      "2 & 0.100000 & 7.457762 & 0.072833 & 1.570219 & 0.024285 \\\\\n",
      "\\end{tabular}\n",
      "\n",
      "\\begin{tabular}{lrrrrr}\n",
      " & learning_rate & runtime & mae_len & rmse_len & rmse_len_99p \\\\\n",
      "coarse_step &  &  &  &  &  \\\\\n",
      "5 & 0.100000 & 2.230730 & 0.164888 & 4.070969 & 0.025657 \\\\\n",
      "5 & 0.090000 & 2.319271 & 0.161458 & 4.073472 & 0.025097 \\\\\n",
      "5 & 0.070000 & 2.563972 & 0.159457 & 4.082306 & 0.024366 \\\\\n",
      "5 & 0.050000 & 2.982299 & 0.162858 & 4.095786 & 0.024474 \\\\\n",
      "4 & 0.100000 & 3.007339 & 0.160251 & 4.062260 & 0.026732 \\\\\n",
      "4 & 0.090000 & 3.134482 & 0.156495 & 4.063624 & 0.026061 \\\\\n",
      "4 & 0.070000 & 3.434704 & 0.153504 & 4.068928 & 0.025582 \\\\\n",
      "3 & 0.100000 & 3.925180 & 0.074532 & 1.572902 & 0.025129 \\\\\n",
      "4 & 0.050000 & 3.947159 & 0.155566 & 4.077158 & 0.026767 \\\\\n",
      "3 & 0.090000 & 4.006655 & 0.070245 & 1.574375 & 0.024525 \\\\\n",
      "\\end{tabular}\n",
      "\n"
     ]
    }
   ],
   "source": [
    "data_sliced = data_f.loc[(data_f['rmse_len'] < 2)]\n",
    "data_sliced = data_sliced.sort_values(by=['runtime', 'rmse_len'])\n",
    "data_sliced = data_sliced[:5]\n",
    "latex_table = data_sliced.style.to_latex()\n",
    "print(latex_table)\n",
    "\n",
    "data_sliced = data_f.loc[(data_f['mae_len'] < 0.2)]\n",
    "data_sliced = data_sliced.sort_values(by=['runtime', 'rmse_len'])\n",
    "data_sliced = data_sliced[:10]\n",
    "latex_table = data_sliced.style.to_latex()\n",
    "print(latex_table)"
   ]
  },
  {
   "cell_type": "markdown",
   "metadata": {},
   "source": [
    "#### LR Adaptável"
   ]
  },
  {
   "cell_type": "code",
   "execution_count": 72,
   "metadata": {},
   "outputs": [
    {
     "name": "stdout",
     "output_type": "stream",
     "text": [
      "\\begin{tabular}{lrrrrr}\n",
      " & learning_rate & runtime & mae_len & rmse_len & rmse_len_99p \\\\\n",
      "coarse_step &  &  &  &  &  \\\\\n",
      "3 & 0.600000 & 3.279230 & 0.049848 & 0.929365 & 0.023509 \\\\\n",
      "3 & 0.900000 & 3.302778 & 0.037367 & 0.467944 & 0.023489 \\\\\n",
      "3 & 0.700000 & 3.303561 & 0.045202 & 0.760254 & 0.023501 \\\\\n",
      "3 & 0.800000 & 3.331416 & 0.040977 & 0.603207 & 0.023493 \\\\\n",
      "3 & 0.500000 & 3.357537 & 0.054707 & 1.098996 & 0.023520 \\\\\n",
      "\\end{tabular}\n",
      "\n",
      "\\begin{tabular}{lrrrrr}\n",
      " & learning_rate & runtime & mae_len & rmse_len & rmse_len_99p \\\\\n",
      "coarse_step &  &  &  &  &  \\\\\n",
      "5 & 0.800000 & 1.455397 & 0.123769 & 3.790531 & 0.023949 \\\\\n",
      "5 & 0.700000 & 1.470986 & 0.128353 & 3.818879 & 0.023962 \\\\\n",
      "5 & 0.600000 & 1.474713 & 0.133406 & 3.856459 & 0.023964 \\\\\n",
      "5 & 0.500000 & 1.498316 & 0.138879 & 3.901476 & 0.023975 \\\\\n",
      "5 & 0.400000 & 1.561975 & 0.140130 & 3.939916 & 0.023984 \\\\\n",
      "5 & 0.300000 & 1.668622 & 0.146383 & 3.987814 & 0.023996 \\\\\n",
      "5 & 0.200000 & 1.862368 & 0.144810 & 4.020349 & 0.024010 \\\\\n",
      "4 & 0.700000 & 2.121817 & 0.127886 & 3.818447 & 0.024983 \\\\\n",
      "4 & 0.900000 & 2.126286 & 0.119740 & 3.771025 & 0.024960 \\\\\n",
      "4 & 0.600000 & 2.135174 & 0.132812 & 3.855828 & 0.024993 \\\\\n",
      "\\end{tabular}\n",
      "\n"
     ]
    }
   ],
   "source": [
    "data_sliced = data_a.loc[(data_a['rmse_len'] < 2)]\n",
    "data_sliced = data_sliced.sort_values(by=['runtime', 'rmse_len'])\n",
    "data_sliced = data_sliced[:5]\n",
    "latex_table = data_sliced.style.to_latex()\n",
    "print(latex_table)\n",
    "\n",
    "data_sliced = data_a.loc[(data_a['mae_len'] < 0.2)]\n",
    "data_sliced = data_sliced.sort_values(by=['runtime', 'rmse_len'])\n",
    "data_sliced = data_sliced[:10]\n",
    "latex_table = data_sliced.style.to_latex()\n",
    "print(latex_table)"
   ]
  },
  {
   "cell_type": "markdown",
   "metadata": {},
   "source": [
    "## Momentum e Nesterov"
   ]
  },
  {
   "cell_type": "code",
   "execution_count": 73,
   "metadata": {},
   "outputs": [],
   "source": [
    "data_m = pd.read_csv(root_dir + \"/data/experimental_results/hyperparameters/\" + \"gradient_momentum.csv\", index_col=0, float_precision='high')\n",
    "data_m = data_m[['learning_rate', 'momentum', 'runtime', 'mae_len', 'rmse_len', 'rmse_len_99p']]\n",
    "data_m = data_m.loc[(data_m['learning_rate'] >= 0.01)]\n",
    "data_m['runtime'] = data_m['runtime'] / 1000\n",
    "data_n = pd.read_csv(root_dir + \"/data/experimental_results/hyperparameters/\" + \"gradient_nesterov.csv\", index_col=0, float_precision='high')\n",
    "data_n = data_n[['learning_rate', 'momentum', 'runtime', 'mae_len', 'rmse_len', 'rmse_len_99p']]\n",
    "data_n = data_n.loc[(data_n['learning_rate'] >= 0.01)]\n",
    "data_n['runtime'] = data_n['runtime'] / 1000"
   ]
  },
  {
   "cell_type": "markdown",
   "metadata": {},
   "source": [
    "### Beta"
   ]
  },
  {
   "cell_type": "code",
   "execution_count": 75,
   "metadata": {},
   "outputs": [],
   "source": [
    "# Momentum\n",
    "data_sliced = data_m.loc[(data_m.index == 4) & (data_m['learning_rate'] == 0.07)]\n",
    "runtime_data = data_sliced['runtime'].values\n",
    "rmse_data = data_sliced['rmse_len'].values\n",
    "index = data_sliced['momentum'].values\n",
    "fig = plt.figure(figsize=(10,12), dpi=200)\n",
    "plt.rcParams['text.usetex'] = True\n",
    "plt.rcParams['font.family'] = ['serif']\n",
    "plt.rcParams['font.serif'] = ['Latin Modern Roman']\n",
    "ax1 = plt.axes()\n",
    "ax2 = ax1.twinx()\n",
    "ax1.plot(index, runtime_data, 'b-', label='Tempo Momentum')\n",
    "ax2.plot(index, rmse_data, 'b--', label='RMSE Momentum')\n",
    "ax1.set_xlabel('Momentum')\n",
    "ax1.set_ylabel('Tempo (s)')\n",
    "ax2.set_ylabel('RMSE')\n",
    "# Nesterov\n",
    "data_sliced = data_n.loc[(data_n.index == 4) & (data_n['learning_rate'] == 0.07)]\n",
    "runtime_data = data_sliced['runtime'].values\n",
    "rmse_data = data_sliced['rmse_len'].values\n",
    "index = data_sliced['momentum'].values\n",
    "ax1.plot(index, runtime_data, 'r-', label='Tempo Nesterov')\n",
    "ax2.plot(index, rmse_data, 'r--', label='RMSE Nesterov')\n",
    "ax1.legend(loc='upper left')\n",
    "ax2.legend(loc='upper right')\n",
    "plt.savefig(\"hp_momentum_beta.png\", bbox_inches='tight', pad_inches=0)\n",
    "plt.close()"
   ]
  },
  {
   "cell_type": "markdown",
   "metadata": {},
   "source": [
    "### Alfa"
   ]
  },
  {
   "cell_type": "code",
   "execution_count": 78,
   "metadata": {},
   "outputs": [],
   "source": [
    "# Momentum\n",
    "data_sliced = data_m.loc[(data_m.index == 4) & (data_m['momentum'] == 0.9)]\n",
    "runtime_data = data_sliced['runtime'].values\n",
    "rmse_data = data_sliced['rmse_len'].values\n",
    "index = data_sliced['learning_rate'].values\n",
    "fig = plt.figure(figsize=(10,12), dpi=200)\n",
    "plt.rcParams['text.usetex'] = True\n",
    "plt.rcParams['font.family'] = ['serif']\n",
    "plt.rcParams['font.serif'] = ['Latin Modern Roman']\n",
    "ax1 = plt.axes()\n",
    "ax2 = ax1.twinx()\n",
    "ax1.plot(index, runtime_data, 'b-', label='Tempo Momentum')\n",
    "ax2.plot(index, rmse_data, 'b--', label='RMSE Momentum')\n",
    "ax1.set_xlabel('$\\it{Learning\\ Rate}$')\n",
    "ax1.set_ylabel('Tempo (s)')\n",
    "ax2.set_ylabel('RMSE')\n",
    "# Nesterov\n",
    "data_sliced = data_n.loc[(data_n.index == 4) & (data_n['momentum'] == 0.9)]\n",
    "runtime_data = data_sliced['runtime'].values\n",
    "rmse_data = data_sliced['rmse_len'].values\n",
    "index = data_sliced['learning_rate'].values\n",
    "ax1.plot(index, runtime_data, 'r-', label='Tempo Nesterov')\n",
    "ax2.plot(index, rmse_data, 'r--', label='RMSE Nesterov')\n",
    "ax1.legend(loc='upper left')\n",
    "ax2.legend(loc='upper right')\n",
    "plt.savefig(\"hp_momentum_alfa.png\", bbox_inches='tight', pad_inches=0)\n",
    "plt.close()"
   ]
  },
  {
   "cell_type": "markdown",
   "metadata": {},
   "source": [
    "### Passo Grosso"
   ]
  },
  {
   "cell_type": "code",
   "execution_count": 80,
   "metadata": {},
   "outputs": [],
   "source": [
    "# Momentum\n",
    "data_sliced = data_m.loc[(data_m['learning_rate'] == 0.07) & (data_m['momentum'] == 0.9)]\n",
    "runtime_data = data_sliced['runtime'].values\n",
    "rmse_data = data_sliced['rmse_len'].values\n",
    "index = data_sliced.index.values\n",
    "fig = plt.figure(figsize=(10,12), dpi=200)\n",
    "plt.rcParams['text.usetex'] = True\n",
    "plt.rcParams['font.family'] = ['serif']\n",
    "plt.rcParams['font.serif'] = ['Latin Modern Roman']\n",
    "ax1 = plt.axes()\n",
    "ax2 = ax1.twinx()\n",
    "ax1.plot(index, runtime_data, 'b-', label='Tempo Momentum')\n",
    "ax2.plot(index, rmse_data, 'b--', label='RMSE Momentum')\n",
    "ax1.set_xlabel('Passo Grosso (°)')\n",
    "ax1.set_ylabel('Tempo (s)')\n",
    "ax2.set_ylabel('RMSE')\n",
    "# Nesterov\n",
    "data_sliced = data_n.loc[(data_n['learning_rate'] == 0.07) & (data_n['momentum'] == 0.9)]\n",
    "runtime_data = data_sliced['runtime'].values\n",
    "rmse_data = data_sliced['rmse_len'].values\n",
    "index = data_sliced.index.values\n",
    "ax1.plot(index, runtime_data, 'r-', label='Tempo Nesterov')\n",
    "ax2.plot(index, rmse_data, 'r--', label='RMSE Nesterov')\n",
    "ax1.legend(loc='upper left')\n",
    "ax2.legend(loc='upper right')\n",
    "plt.savefig(\"hp_momentum_pg.png\", bbox_inches='tight', pad_inches=0)\n",
    "plt.close()"
   ]
  },
  {
   "cell_type": "markdown",
   "metadata": {},
   "source": [
    "### Melhores hiperparâmetros"
   ]
  },
  {
   "cell_type": "markdown",
   "metadata": {},
   "source": [
    "#### Momentum"
   ]
  },
  {
   "cell_type": "code",
   "execution_count": 83,
   "metadata": {},
   "outputs": [
    {
     "name": "stdout",
     "output_type": "stream",
     "text": [
      "\\begin{tabular}{lrrrrrr}\n",
      " & learning_rate & momentum & runtime & mae_len & rmse_len & rmse_len_99p \\\\\n",
      "coarse_step &  &  &  &  &  &  \\\\\n",
      "3 & 0.100000 & 0.850000 & 3.195657 & 0.043098 & 0.799499 & 0.023614 \\\\\n",
      "3 & 0.100000 & 0.800000 & 3.197449 & 0.049139 & 1.070205 & 0.023501 \\\\\n",
      "3 & 0.100000 & 0.750000 & 3.211957 & 0.052478 & 1.218942 & 0.023485 \\\\\n",
      "3 & 0.100000 & 0.900000 & 3.227101 & 0.033061 & 0.352247 & 0.023740 \\\\\n",
      "3 & 0.090000 & 0.900000 & 3.286797 & 0.035449 & 0.459667 & 0.023695 \\\\\n",
      "\\end{tabular}\n",
      "\n",
      "\\begin{tabular}{lrrrrrr}\n",
      " & learning_rate & momentum & runtime & mae_len & rmse_len & rmse_len_99p \\\\\n",
      "coarse_step &  &  &  &  &  &  \\\\\n",
      "5 & 0.100000 & 0.850000 & 1.417404 & 0.125445 & 3.826460 & 0.023920 \\\\\n",
      "5 & 0.100000 & 0.800000 & 1.429104 & 0.131644 & 3.892075 & 0.024146 \\\\\n",
      "5 & 0.090000 & 0.850000 & 1.450553 & 0.128043 & 3.850843 & 0.024331 \\\\\n",
      "5 & 0.100000 & 0.900000 & 1.458379 & 0.115450 & 3.758580 & 0.024338 \\\\\n",
      "5 & 0.100000 & 0.750000 & 1.460708 & 0.135256 & 3.935688 & 0.023930 \\\\\n",
      "5 & 0.090000 & 0.800000 & 1.462242 & 0.133422 & 3.913858 & 0.023958 \\\\\n",
      "5 & 0.070000 & 0.850000 & 1.468694 & 0.132953 & 3.906547 & 0.024137 \\\\\n",
      "5 & 0.090000 & 0.900000 & 1.486516 & 0.117814 & 3.770143 & 0.024238 \\\\\n",
      "5 & 0.100000 & 0.700000 & 1.490881 & 0.137928 & 3.964640 & 0.024101 \\\\\n",
      "5 & 0.070000 & 0.800000 & 1.496459 & 0.137191 & 3.957482 & 0.023950 \\\\\n",
      "\\end{tabular}\n",
      "\n"
     ]
    }
   ],
   "source": [
    "data_sliced = data_m.loc[(data_m['rmse_len'] < 2)]\n",
    "data_sliced = data_sliced.sort_values(by=['runtime', 'rmse_len'])\n",
    "data_sliced = data_sliced[:5]\n",
    "latex_table = data_sliced.style.to_latex()\n",
    "print(latex_table)\n",
    "\n",
    "data_sliced = data_m.loc[(data_m['mae_len'] < 0.2)]\n",
    "data_sliced = data_sliced.sort_values(by=['runtime', 'rmse_len'])\n",
    "data_sliced = data_sliced[:10]\n",
    "latex_table = data_sliced.style.to_latex()\n",
    "print(latex_table)\n"
   ]
  },
  {
   "cell_type": "markdown",
   "metadata": {},
   "source": [
    "#### Nesterov"
   ]
  },
  {
   "cell_type": "code",
   "execution_count": 88,
   "metadata": {},
   "outputs": [
    {
     "name": "stdout",
     "output_type": "stream",
     "text": [
      "\\begin{tabular}{lrrrrrr}\n",
      " & learning_rate & momentum & runtime & mae_len & rmse_len & rmse_len_99p \\\\\n",
      "coarse_step &  &  &  &  &  &  \\\\\n",
      "3 & 0.050000 & 0.900000 & 3.260864 & 0.050063 & 1.071363 & 0.023721 \\\\\n",
      "3 & 0.070000 & 0.900000 & 3.273480 & 0.046870 & 0.752342 & 0.024895 \\\\\n",
      "3 & 0.070000 & 0.850000 & 3.289856 & 0.055408 & 1.125961 & 0.025006 \\\\\n",
      "3 & 0.050000 & 0.850000 & 3.290230 & 0.055460 & 1.308900 & 0.023805 \\\\\n",
      "3 & 0.050000 & 0.950000 & 3.291690 & 0.033693 & 0.354939 & 0.023464 \\\\\n",
      "\\end{tabular}\n",
      "\n",
      "\\begin{tabular}{lrrrrrr}\n",
      " & learning_rate & momentum & runtime & mae_len & rmse_len & rmse_len_99p \\\\\n",
      "coarse_step &  &  &  &  &  &  \\\\\n",
      "5 & 0.050000 & 0.900000 & 1.480069 & 0.132482 & 3.892322 & 0.024223 \\\\\n",
      "5 & 0.070000 & 0.900000 & 1.484746 & 0.128946 & 3.816781 & 0.025460 \\\\\n",
      "5 & 0.050000 & 0.950000 & 1.499828 & 0.115938 & 3.758806 & 0.023781 \\\\\n",
      "5 & 0.070000 & 0.850000 & 1.509905 & 0.137695 & 3.907753 & 0.025639 \\\\\n",
      "5 & 0.070000 & 0.950000 & 1.518054 & 0.114197 & 3.745839 & 0.024860 \\\\\n",
      "5 & 0.050000 & 0.850000 & 1.523553 & 0.138885 & 3.964815 & 0.024320 \\\\\n",
      "5 & 0.070000 & 0.800000 & 1.558373 & 0.142127 & 3.958561 & 0.025630 \\\\\n",
      "5 & 0.030000 & 0.950000 & 1.560070 & 0.127726 & 3.851396 & 0.023662 \\\\\n",
      "5 & 0.030000 & 0.900000 & 1.564891 & 0.139227 & 3.978929 & 0.023958 \\\\\n",
      "5 & 0.090000 & 0.850000 & 1.593381 & 0.146351 & 3.866120 & 0.036499 \\\\\n",
      "\\end{tabular}\n",
      "\n"
     ]
    }
   ],
   "source": [
    "data_sliced = data_n.loc[(data_n['rmse_len'] < 2)]\n",
    "data_sliced = data_sliced.sort_values(by=['runtime', 'rmse_len'])\n",
    "data_sliced = data_sliced[:5]\n",
    "latex_table = data_sliced.style.to_latex()\n",
    "print(latex_table)\n",
    "\n",
    "data_sliced = data_n.loc[(data_n['mae_len'] < 0.2)]\n",
    "data_sliced = data_sliced.sort_values(by=['runtime', 'rmse_len'])\n",
    "data_sliced = data_sliced[:10]\n",
    "latex_table = data_sliced.style.to_latex()\n",
    "print(latex_table)"
   ]
  },
  {
   "cell_type": "markdown",
   "metadata": {},
   "source": [
    "# Acurácia e Runtime"
   ]
  },
  {
   "cell_type": "code",
   "execution_count": 105,
   "metadata": {},
   "outputs": [
    {
     "name": "stdout",
     "output_type": "stream",
     "text": [
      "\\begin{tabular}{lrrr}\n",
      " & runtime & mae_len & rmse_len \\\\\n",
      "technique &  &  &  \\\\\n",
      "esprit & 0.279978 & 0.000000 & 0.000000 \\\\\n",
      "music_coarse_fine_grid_search & 19.716637 & 0.334486 & 8.096325 \\\\\n",
      "music_gradient_simple & 11.661477 & 0.238658 & 6.178311 \\\\\n",
      "music_gradient_adapt_lr & 7.693409 & 0.197755 & 6.011210 \\\\\n",
      "music_gradient_momentum & 7.688220 & 0.196071 & 6.019725 \\\\\n",
      "music_gradient_nesterov & 7.950462 & 0.198154 & 6.009055 \\\\\n",
      "\\end{tabular}\n",
      "\n"
     ]
    }
   ],
   "source": [
    "data = pd.read_csv(root_dir + \"/data/experimental_results/accuracy_runtime.csv\", index_col=0, float_precision='high')\n",
    "data['runtime'] = data['runtime'] / 1000\n",
    "data = data[['runtime', 'mae_len', 'rmse_len']]\n",
    "latex_table = data.style.to_latex()\n",
    "print(latex_table)"
   ]
  }
 ],
 "metadata": {
  "interpreter": {
   "hash": "ad99d1c8d28ff7c16a4a8ebce4cff687d23fe31bc811d8eebe7be1135de10c35"
  },
  "kernelspec": {
   "display_name": "Python 3.8.12 ('dev')",
   "language": "python",
   "name": "python3"
  },
  "language_info": {
   "codemirror_mode": {
    "name": "ipython",
    "version": 3
   },
   "file_extension": ".py",
   "mimetype": "text/x-python",
   "name": "python",
   "nbconvert_exporter": "python",
   "pygments_lexer": "ipython3",
   "version": "3.8.12"
  },
  "orig_nbformat": 4
 },
 "nbformat": 4,
 "nbformat_minor": 2
}
