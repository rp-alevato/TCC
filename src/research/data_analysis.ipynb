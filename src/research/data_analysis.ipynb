{
 "cells": [
  {
   "cell_type": "code",
   "execution_count": 52,
   "metadata": {},
   "outputs": [],
   "source": [
    "import numpy as np\n",
    "import pandas as pd\n",
    "import matplotlib.pyplot as plt\n",
    "%matplotlib inline"
   ]
  },
  {
   "cell_type": "code",
   "execution_count": 53,
   "metadata": {},
   "outputs": [],
   "source": [
    "from pathlib import Path\n",
    "\n",
    "pd.options.display.float_format = '{:,.4f}'.format\n",
    "root_dir = str(Path.cwd().parent.parent)"
   ]
  },
  {
   "cell_type": "markdown",
   "metadata": {},
   "source": [
    "# Precisão"
   ]
  },
  {
   "cell_type": "code",
   "execution_count": 73,
   "metadata": {},
   "outputs": [],
   "source": [
    "def get_results_precision(filename):\n",
    "    data = pd.read_csv(root_dir + \"/data/experimental_results/precision/\" + filename, index_col=0, float_precision='high')\n",
    "    data = data[['mad_len', 'std_dev_len', 'mad_az', 'std_dev_az', 'mad_el', 'std_dev_el']]\n",
    "    print(data)"
   ]
  },
  {
   "cell_type": "code",
   "execution_count": 74,
   "metadata": {},
   "outputs": [
    {
     "name": "stdout",
     "output_type": "stream",
     "text": [
      "           mad_len  std_dev_len  mad_az  std_dev_az  mad_el  std_dev_el\n",
      "technique                                                              \n",
      "music       4.1975       8.6128  2.0365      8.5105  4.7399      6.5641\n",
      "esprit      4.6589       6.4586  1.8465      6.0749  5.3191      7.1224\n",
      "silabs      0.9300       1.1788  0.9057      1.1539  1.7972      2.2666\n",
      "           mad_len  std_dev_len  mad_az  std_dev_az  mad_el  std_dev_el\n",
      "technique                                                              \n",
      "music       3.4977      10.9712  2.8472     11.0574  5.8038      7.2491\n",
      "esprit      3.7891       5.9085  2.3586      6.6148  4.3858      6.0278\n",
      "silabs      1.3358       1.6246  1.3659      1.6542  1.9405      2.4688\n",
      "           mad_len  std_dev_len  mad_az  std_dev_az  mad_el  std_dev_el\n",
      "technique                                                              \n",
      "music       2.0604       6.0833  1.8215      6.5930  1.7973      2.9670\n",
      "esprit      2.2989       6.3690  2.1553     11.6199  3.0095      4.0780\n",
      "silabs      1.0005       1.2667  0.7524      0.9653  1.0893      1.3761\n"
     ]
    }
   ],
   "source": [
    "get_results_precision(\"fixed_1.csv\")\n",
    "get_results_precision(\"fixed_2.csv\")\n",
    "get_results_precision(\"fixed_3.csv\")"
   ]
  },
  {
   "cell_type": "markdown",
   "metadata": {},
   "source": [
    "# Hiperparâmetros"
   ]
  },
  {
   "cell_type": "markdown",
   "metadata": {},
   "source": [
    "## Busca grossa-fina"
   ]
  },
  {
   "cell_type": "code",
   "execution_count": 56,
   "metadata": {},
   "outputs": [],
   "source": [
    "data = pd.read_csv(root_dir + \"/data/experimental_results/hyperparameters/\" + \"coarse_fine_search.csv\", index_col=0, float_precision='high')\n",
    "data = data[['runtime', 'mae_len','rmse_len', 'rmse_len_99p']]\n",
    "data['runtime'] = data['runtime'] / 1000"
   ]
  },
  {
   "cell_type": "code",
   "execution_count": 57,
   "metadata": {},
   "outputs": [],
   "source": [
    "runtime_data = data['runtime'].values\n",
    "mae_data = data['mae_len'].values\n",
    "index = data.index.values\n",
    "fig = plt.figure(figsize=(12,8), dpi=200)\n",
    "plt.rcParams['text.usetex'] = True\n",
    "plt.rcParams['font.family'] = ['serif']\n",
    "plt.rcParams['font.serif'] = ['Latin Modern Roman']\n",
    "plt.rcParams['font.size'] = 12\n",
    "ax1 = plt.axes()\n",
    "ax2 = ax1.twinx()\n",
    "lgd1 = ax1.plot(index, runtime_data, 'b-', label='Tempo ' + r'$ \\alpha $' +  ' estático')\n",
    "lgd2 = ax2.plot(index, mae_data, 'b--', label='MAE ' + r'$ \\alpha $' +  ' estático')\n",
    "ax1.set_xlabel('Passo Grosso (°)')\n",
    "ax1.set_ylabel('Tempo (s)')\n",
    "ax2.set_ylabel('MAE (°)')\n",
    "lgd = lgd1 + lgd2\n",
    "labels = [l.get_label() for l in lgd]\n",
    "ax1.legend(lgd, labels, loc='upper left')\n",
    "plt.savefig(\"busca_grossa_fina_pg.png\", bbox_inches='tight', pad_inches=0)\n",
    "plt.close()"
   ]
  },
  {
   "cell_type": "code",
   "execution_count": 58,
   "metadata": {},
   "outputs": [
    {
     "name": "stdout",
     "output_type": "stream",
     "text": [
      "             runtime  mae_len  rmse_len  rmse_len_99p\n",
      "coarse_step                                          \n",
      "2            43.5167   0.1687    1.6013        0.1330\n",
      "3            21.8519   0.1944    1.8114        0.1350\n",
      "4            15.7618   0.2845    4.1453        0.1384\n",
      "5            13.9617   0.4787    9.0651        0.1381\n",
      "6            14.5898   0.4797    7.3349        0.1365\n",
      "7            16.4940   0.7028    9.2024        0.1990\n",
      "8            19.3363   0.7801    8.8870        0.2136\n",
      "9            22.5813   1.3267   14.5058        0.9829\n"
     ]
    }
   ],
   "source": [
    "print(data)"
   ]
  },
  {
   "cell_type": "markdown",
   "metadata": {},
   "source": [
    "## Gradiente Simples com learning rate fixo e adaptável"
   ]
  },
  {
   "cell_type": "code",
   "execution_count": 59,
   "metadata": {},
   "outputs": [],
   "source": [
    "data_f = pd.read_csv(root_dir + \"/data/experimental_results/hyperparameters/\" + \"gradient_simple.csv\", index_col=0, float_precision='high')\n",
    "data_f = data_f[['learning_rate', 'runtime', 'mae_len', 'rmse_len', 'rmse_len_99p']]\n",
    "data_f['runtime'] = data_f['runtime'] / 1000\n",
    "data_a = pd.read_csv(root_dir + \"/data/experimental_results/hyperparameters/\" + \"gradient_adapt_lr.csv\", index_col=0, float_precision='high')\n",
    "data_a = data_a[['learning_rate', 'runtime', 'mae_len', 'rmse_len', 'rmse_len_99p']]\n",
    "data_a['runtime'] = data_a['runtime'] / 1000"
   ]
  },
  {
   "cell_type": "markdown",
   "metadata": {},
   "source": [
    "### Alfa"
   ]
  },
  {
   "cell_type": "code",
   "execution_count": 60,
   "metadata": {},
   "outputs": [],
   "source": [
    "data_sliced = data_f.loc[(data_f.index == 5)]\n",
    "runtime_data = data_sliced['runtime'].values\n",
    "mae_data = data_sliced['mae_len'].values\n",
    "index = data_sliced['learning_rate'].values\n",
    "fig = plt.figure(figsize=(7,8), dpi=200)\n",
    "plt.rcParams['text.usetex'] = True\n",
    "plt.rcParams['font.family'] = ['serif']\n",
    "plt.rcParams['font.serif'] = ['Latin Modern Roman']\n",
    "plt.rcParams['font.size'] = 14\n",
    "ax1 = plt.axes()\n",
    "ax2 = ax1.twinx()\n",
    "lgd1 = ax1.plot(index, runtime_data, 'b-', label='Tempo ' + r'$ \\alpha $' +  ' estático')\n",
    "lgd2 = ax2.plot(index, mae_data, 'b--', label='MAE ' + r'$ \\alpha $' +  ' estático')\n",
    "ax1.set_xlabel('$\\it{Learning\\ rate}$')\n",
    "ax1.set_ylabel('Tempo (s)')\n",
    "ax2.set_ylabel('MAE (°)')\n",
    "lgd = lgd1 + lgd2\n",
    "labels = [l.get_label() for l in lgd]\n",
    "ax1.legend(lgd, labels, loc='upper left')\n",
    "plt.savefig(\"gradiente_simples_alfa.png\", bbox_inches='tight', pad_inches=0)\n",
    "plt.close()"
   ]
  },
  {
   "cell_type": "code",
   "execution_count": 61,
   "metadata": {},
   "outputs": [],
   "source": [
    "data_sliced = data_a.loc[(data_a.index == 5)]\n",
    "runtime_data = data_sliced['runtime'].values\n",
    "mae_data = data_sliced['mae_len'].values\n",
    "index = data_sliced['learning_rate'].values\n",
    "fig = plt.figure(figsize=(7,8), dpi=200)\n",
    "plt.rcParams['text.usetex'] = True\n",
    "plt.rcParams['font.family'] = ['serif']\n",
    "plt.rcParams['font.serif'] = ['Latin Modern Roman']\n",
    "plt.rcParams['font.size'] = 14\n",
    "ax1 = plt.axes()\n",
    "ax2 = ax1.twinx()\n",
    "lgd1 = ax1.plot(index, runtime_data, 'b-', label='Tempo ' + r'$ \\alpha $' +  ' adaptável')\n",
    "lgd2 = ax2.plot(index, mae_data, 'b--', label='MAE ' + r'$ \\alpha $' +  ' adaptável')\n",
    "ax1.set_xlabel('$\\it{Learning\\ rate}$')\n",
    "ax1.set_ylabel('Tempo (s)')\n",
    "ax2.set_ylabel('MAE (°)')\n",
    "lgd = lgd1 + lgd2\n",
    "labels = [l.get_label() for l in lgd]\n",
    "ax1.legend(lgd, labels, loc='upper left')\n",
    "plt.savefig(\"gradiente_simples_adapt_alfa.png\", bbox_inches='tight', pad_inches=0)\n",
    "plt.close()"
   ]
  },
  {
   "cell_type": "markdown",
   "metadata": {},
   "source": [
    "### Passo Grosso"
   ]
  },
  {
   "cell_type": "code",
   "execution_count": 62,
   "metadata": {},
   "outputs": [],
   "source": [
    "# Fix\n",
    "data_sliced = data_f.loc[(data_f['learning_rate'] == 0.1)]\n",
    "runtime_data = data_sliced['runtime'].values\n",
    "mae_data = data_sliced['mae_len'].values\n",
    "index = data_sliced.index.values\n",
    "fig = plt.figure(figsize=(12,8), dpi=200)\n",
    "plt.rcParams['text.usetex'] = True\n",
    "plt.rcParams['font.family'] = ['serif']\n",
    "plt.rcParams['font.serif'] = ['Latin Modern Roman']\n",
    "plt.rcParams['font.size'] = 12\n",
    "ax1 = plt.axes()\n",
    "ax2 = ax1.twinx()\n",
    "ax1.plot(index, runtime_data, 'b-', label='Tempo ' + r'$ \\alpha $' +  ' estático')\n",
    "ax2.plot(index, mae_data, 'b--', label='MAE ' + r'$ \\alpha $' +  ' estático')\n",
    "ax1.set_xlabel('Passo Grosso (°)')\n",
    "ax1.set_ylabel('Tempo (s)')\n",
    "ax2.set_ylabel('MAE (°)')\n",
    "# Adapt\n",
    "data_sliced = data_a.loc[(data_a['learning_rate'] == 0.7)]\n",
    "runtime_data = data_sliced['runtime'].values\n",
    "mae_data = data_sliced['mae_len'].values\n",
    "index = data_sliced.index.values\n",
    "ax1.plot(index, runtime_data, 'r-', label='Tempo ' + r'$ \\alpha $' +  ' Adaptável')\n",
    "ax2.plot(index, mae_data, 'r--', label='MAE ' + r'$ \\alpha $' +  ' Adaptável')\n",
    "ax1.legend(loc='upper left')\n",
    "ax2.legend(loc='upper right')\n",
    "plt.savefig(\"gradiente_simples_pg.png\", bbox_inches='tight', pad_inches=0)\n",
    "plt.close()"
   ]
  },
  {
   "cell_type": "markdown",
   "metadata": {},
   "source": [
    "### Melhores hiperparâmetros"
   ]
  },
  {
   "cell_type": "markdown",
   "metadata": {},
   "source": [
    "#### LR Fixo"
   ]
  },
  {
   "cell_type": "code",
   "execution_count": 63,
   "metadata": {},
   "outputs": [
    {
     "name": "stdout",
     "output_type": "stream",
     "text": [
      "             learning_rate  runtime  mae_len  rmse_len  rmse_len_99p\n",
      "coarse_step                                                         \n",
      "5                   0.1000  11.2747   0.2071    4.1054        0.1155\n",
      "5                   0.0900  11.4839   0.2031    4.1046        0.1105\n",
      "5                   0.0700  12.2905   0.1995    4.1069        0.1037\n",
      "5                   0.0500  13.9967   0.1994    4.1134        0.1002\n",
      "3                   0.1000  22.3830   0.2937    8.2159        0.1109\n",
      "3                   0.0900  22.5166   0.2890    8.2145        0.1056\n",
      "3                   0.0700  23.0995   0.2843    8.2135        0.0987\n",
      "3                   0.0500  24.4051   0.2832    8.2140        0.0950\n",
      "2                   0.1000  44.7556   0.2918    8.2171        0.1005\n",
      "2                   0.0900  44.8300   0.2875    8.2161        0.0967\n"
     ]
    }
   ],
   "source": [
    "data_sliced = data_f.loc[(data_f['mae_len'] < 0.3)]\n",
    "data_sliced = data_sliced.sort_values(by=['runtime', 'rmse_len'])\n",
    "data_sliced = data_sliced[:10]\n",
    "print(data_sliced)"
   ]
  },
  {
   "cell_type": "markdown",
   "metadata": {},
   "source": [
    "#### LR Adaptável"
   ]
  },
  {
   "cell_type": "code",
   "execution_count": 64,
   "metadata": {},
   "outputs": [
    {
     "name": "stdout",
     "output_type": "stream",
     "text": [
      "             learning_rate  runtime  mae_len  rmse_len  rmse_len_99p\n",
      "coarse_step                                                         \n",
      "5                   0.8000   8.1697   0.1903    4.0938        0.0982\n",
      "5                   0.7000   8.2213   0.1907    4.0940        0.0989\n",
      "5                   0.6000   8.2326   0.1913    4.0941        0.0991\n",
      "5                   0.5000   8.3104   0.1923    4.0946        0.0994\n",
      "5                   0.4000   8.4645   0.1936    4.0957        0.0997\n",
      "5                   0.3000   8.7494   0.1957    4.0986        0.1000\n",
      "5                   0.2000   9.2791   0.1921    4.0940        0.0997\n",
      "5                   0.1000  10.9345   0.1945    4.0991        0.1000\n",
      "5                   0.0900  11.2704   0.1955    4.1011        0.1007\n",
      "5                   0.0700  12.2948   0.1973    4.1062        0.0999\n"
     ]
    }
   ],
   "source": [
    "data_sliced = data_a.loc[(data_a['mae_len'] < 0.3)]\n",
    "data_sliced = data_sliced.sort_values(by=['runtime', 'rmse_len'])\n",
    "data_sliced = data_sliced[:10]\n",
    "print(data_sliced)"
   ]
  },
  {
   "cell_type": "markdown",
   "metadata": {},
   "source": [
    "## Momentum e Nesterov"
   ]
  },
  {
   "cell_type": "code",
   "execution_count": 65,
   "metadata": {},
   "outputs": [],
   "source": [
    "data_m = pd.read_csv(root_dir + \"/data/experimental_results/hyperparameters/\" + \"gradient_momentum.csv\", index_col=0, float_precision='high')\n",
    "data_m = data_m[['learning_rate', 'momentum', 'runtime', 'mae_len', 'rmse_len', 'rmse_len_99p']]\n",
    "data_m = data_m.loc[(data_m['learning_rate'] >= 0.01)]\n",
    "data_m['runtime'] = data_m['runtime'] / 1000\n",
    "data_n = pd.read_csv(root_dir + \"/data/experimental_results/hyperparameters/\" + \"gradient_nesterov.csv\", index_col=0, float_precision='high')\n",
    "data_n = data_n[['learning_rate', 'momentum', 'runtime', 'mae_len', 'rmse_len', 'rmse_len_99p']]\n",
    "data_n = data_n.loc[(data_n['learning_rate'] >= 0.01)]\n",
    "data_n['runtime'] = data_n['runtime'] / 1000"
   ]
  },
  {
   "cell_type": "markdown",
   "metadata": {},
   "source": [
    "### Beta"
   ]
  },
  {
   "cell_type": "code",
   "execution_count": 66,
   "metadata": {},
   "outputs": [],
   "source": [
    "# Momentum\n",
    "data_sliced = data_m.loc[(data_m.index == 5) & (data_m['learning_rate'] == 0.07)]\n",
    "runtime_data = data_sliced['runtime'].values\n",
    "mae_data = data_sliced['mae_len'].values\n",
    "index = data_sliced['momentum'].values\n",
    "fig = plt.figure(figsize=(12,8), dpi=200)\n",
    "plt.rcParams['text.usetex'] = True\n",
    "plt.rcParams['font.family'] = ['serif']\n",
    "plt.rcParams['font.serif'] = ['Latin Modern Roman']\n",
    "plt.rcParams['font.size'] = 12\n",
    "ax1 = plt.axes()\n",
    "ax2 = ax1.twinx()\n",
    "ax1.plot(index, runtime_data, 'b-', label='Tempo Momentum')\n",
    "ax2.plot(index, mae_data, 'b--', label='MAE Momentum')\n",
    "ax1.set_xlabel('Momentum')\n",
    "ax1.set_ylabel('Tempo (s)')\n",
    "ax2.set_ylabel('MAE (°)')\n",
    "# Nesterov\n",
    "data_sliced = data_n.loc[(data_n.index == 5) & (data_n['learning_rate'] == 0.07)]\n",
    "runtime_data = data_sliced['runtime'].values\n",
    "mae_data = data_sliced['mae_len'].values\n",
    "index = data_sliced['momentum'].values\n",
    "ax1.plot(index, runtime_data, 'r-', label='Tempo Nesterov')\n",
    "ax2.plot(index, mae_data, 'r--', label='MAE Nesterov')\n",
    "ax1.legend(loc='upper left')\n",
    "ax2.legend(loc='upper right')\n",
    "plt.savefig(\"momentum_beta.png\", bbox_inches='tight', pad_inches=0)\n",
    "plt.close()"
   ]
  },
  {
   "cell_type": "markdown",
   "metadata": {},
   "source": [
    "### Alfa"
   ]
  },
  {
   "cell_type": "code",
   "execution_count": 67,
   "metadata": {},
   "outputs": [],
   "source": [
    "# Momentum\n",
    "data_sliced = data_m.loc[(data_m.index == 5) & (data_m['momentum'] == 0.9)]\n",
    "runtime_data = data_sliced['runtime'].values\n",
    "mae_data = data_sliced['mae_len'].values\n",
    "index = data_sliced['learning_rate'].values\n",
    "fig = plt.figure(figsize=(12,8), dpi=200)\n",
    "plt.rcParams['text.usetex'] = True\n",
    "plt.rcParams['font.family'] = ['serif']\n",
    "plt.rcParams['font.serif'] = ['Latin Modern Roman']\n",
    "plt.rcParams['font.size'] = 12\n",
    "ax1 = plt.axes()\n",
    "ax2 = ax1.twinx()\n",
    "ax1.plot(index, runtime_data, 'b-', label='Tempo Momentum')\n",
    "ax2.plot(index, mae_data, 'b--', label='MAE Momentum')\n",
    "ax1.set_xlabel('$\\it{Learning\\ rate}$')\n",
    "ax1.set_ylabel('Tempo (s)')\n",
    "ax2.set_ylabel('MAE (°)')\n",
    "# Nesterov\n",
    "data_sliced = data_n.loc[(data_n.index == 5) & (data_n['momentum'] == 0.9)]\n",
    "runtime_data = data_sliced['runtime'].values\n",
    "mae_data = data_sliced['mae_len'].values\n",
    "index = data_sliced['learning_rate'].values\n",
    "ax1.plot(index, runtime_data, 'r-', label='Tempo Nesterov')\n",
    "ax2.plot(index, mae_data, 'r--', label='MAE Nesterov')\n",
    "ax1.legend(loc='upper left')\n",
    "ax2.legend(loc='upper right')\n",
    "plt.savefig(\"momentum_alfa.png\", bbox_inches='tight', pad_inches=0)\n",
    "plt.close()"
   ]
  },
  {
   "cell_type": "markdown",
   "metadata": {},
   "source": [
    "### Passo Grosso"
   ]
  },
  {
   "cell_type": "code",
   "execution_count": 68,
   "metadata": {},
   "outputs": [],
   "source": [
    "# Momentum\n",
    "data_sliced = data_m.loc[(data_m['learning_rate'] == 0.07) & (data_m['momentum'] == 0.9)]\n",
    "runtime_data = data_sliced['runtime'].values\n",
    "mae_data = data_sliced['mae_len'].values\n",
    "index = data_sliced.index.values\n",
    "fig = plt.figure(figsize=(12,8), dpi=200)\n",
    "plt.rcParams['text.usetex'] = True\n",
    "plt.rcParams['font.family'] = ['serif']\n",
    "plt.rcParams['font.serif'] = ['Latin Modern Roman']\n",
    "plt.rcParams['font.size'] = 12\n",
    "ax1 = plt.axes()\n",
    "ax2 = ax1.twinx()\n",
    "ax1.plot(index, runtime_data, 'b-', label='Tempo Momentum')\n",
    "ax2.plot(index, mae_data, 'b--', label='MAE Momentum')\n",
    "ax1.set_xlabel('Passo Grosso (°)')\n",
    "ax1.set_ylabel('Tempo (s)')\n",
    "ax2.set_ylabel('MAE (°)')\n",
    "# Nesterov\n",
    "data_sliced = data_n.loc[(data_n['learning_rate'] == 0.07) & (data_n['momentum'] == 0.9)]\n",
    "runtime_data = data_sliced['runtime'].values\n",
    "mae_data = data_sliced['mae_len'].values\n",
    "index = data_sliced.index.values\n",
    "ax1.plot(index, runtime_data, 'r-', label='Tempo Nesterov')\n",
    "ax2.plot(index, mae_data, 'r--', label='MAE Nesterov')\n",
    "ax1.legend(loc='upper left')\n",
    "ax2.legend(loc='upper right')\n",
    "plt.savefig(\"momentum_pg.png\", bbox_inches='tight', pad_inches=0)\n",
    "plt.close()"
   ]
  },
  {
   "cell_type": "markdown",
   "metadata": {},
   "source": [
    "### Melhores hiperparâmetros"
   ]
  },
  {
   "cell_type": "markdown",
   "metadata": {},
   "source": [
    "#### Momentum"
   ]
  },
  {
   "cell_type": "code",
   "execution_count": 69,
   "metadata": {},
   "outputs": [
    {
     "name": "stdout",
     "output_type": "stream",
     "text": [
      "             learning_rate  momentum  runtime  mae_len  rmse_len  rmse_len_99p\n",
      "coarse_step                                                                   \n",
      "5                   0.1000    0.8000   8.2247   0.1909    4.0932        0.0986\n",
      "5                   0.1000    0.8500   8.2520   0.1894    4.0940        0.0974\n",
      "5                   0.0900    0.8000   8.2818   0.1912    4.0933        0.0989\n",
      "5                   0.0900    0.8500   8.2877   0.1897    4.0936        0.0983\n",
      "5                   0.1000    0.7500   8.2894   0.1912    4.0935        0.0989\n",
      "5                   0.0900    0.7500   8.3670   0.1912    4.0936        0.0989\n",
      "5                   0.0700    0.8500   8.3898   0.1905    4.0934        0.0985\n",
      "5                   0.1000    0.7000   8.3975   0.1915    4.0939        0.0992\n",
      "5                   0.0700    0.8000   8.4497   0.1916    4.0933        0.0993\n",
      "5                   0.1000    0.9000   8.4511   0.1877    4.0932        0.0942\n"
     ]
    }
   ],
   "source": [
    "data_sliced = data_m.loc[(data_m['mae_len'] < 0.3)]\n",
    "data_sliced = data_sliced.sort_values(by=['runtime', 'rmse_len'])\n",
    "data_sliced = data_sliced[:10]\n",
    "print(data_sliced)\n"
   ]
  },
  {
   "cell_type": "markdown",
   "metadata": {},
   "source": [
    "#### Nesterov"
   ]
  },
  {
   "cell_type": "code",
   "execution_count": 70,
   "metadata": {},
   "outputs": [
    {
     "name": "stdout",
     "output_type": "stream",
     "text": [
      "             learning_rate  momentum  runtime  mae_len  rmse_len  rmse_len_99p\n",
      "coarse_step                                                                   \n",
      "5                   0.0500    0.9000   8.4905   0.1899    4.0934        0.1010\n",
      "5                   0.0500    0.8500   8.6114   0.1919    4.0933        0.1025\n",
      "5                   0.0500    0.9500   8.6291   0.1840    4.0931        0.0929\n",
      "5                   0.0700    0.9000   8.6943   0.1921    4.0948        0.1103\n",
      "5                   0.0300    0.9000   8.7137   0.1903    4.0932        0.0989\n",
      "5                   0.0700    0.8500   8.7413   0.1951    4.0942        0.1129\n",
      "5                   0.0300    0.9500   8.7665   0.1847    4.0932        0.0930\n",
      "5                   0.0700    0.9500   8.8472   0.1859    4.0944        0.1001\n",
      "5                   0.0500    0.8000   8.8571   0.1929    4.0941        0.1028\n",
      "5                   0.0700    0.8000   8.8819   0.1963    4.0950        0.1136\n"
     ]
    }
   ],
   "source": [
    "data_sliced = data_n.loc[(data_n['mae_len'] < 0.3)]\n",
    "data_sliced = data_sliced.sort_values(by=['runtime', 'rmse_len'])\n",
    "data_sliced = data_sliced[:10]\n",
    "data_sliced = data_sliced[:10]\n",
    "print(data_sliced)"
   ]
  },
  {
   "cell_type": "markdown",
   "metadata": {},
   "source": [
    "# Acurácia e Runtime"
   ]
  },
  {
   "cell_type": "code",
   "execution_count": 71,
   "metadata": {},
   "outputs": [
    {
     "name": "stdout",
     "output_type": "stream",
     "text": [
      "                               runtime  mae_len  rmse_len\n",
      "technique                                                \n",
      "esprit                          1.6705   0.0000    0.0000\n",
      "music_coarse_fine_grid_search  51.0242   0.6947   11.6139\n",
      "music_gradient_simple          46.4379   0.4342    7.4790\n",
      "music_gradient_adapt_lr        23.3030   0.5931    9.7541\n",
      "music_gradient_momentum        23.9132   0.5750    9.6104\n",
      "music_gradient_nesterov        25.8878   0.5572    9.4030\n"
     ]
    }
   ],
   "source": [
    "data = pd.read_csv(root_dir + \"/data/experimental_results/accuracy_runtime.csv\", index_col=0, float_precision='high')\n",
    "data['runtime'] = data['runtime'] / 1000\n",
    "data = data[['runtime', 'mae_len', 'rmse_len']]\n",
    "print(data)"
   ]
  }
 ],
 "metadata": {
  "interpreter": {
   "hash": "ad99d1c8d28ff7c16a4a8ebce4cff687d23fe31bc811d8eebe7be1135de10c35"
  },
  "kernelspec": {
   "display_name": "Python 3.8.12 ('dev')",
   "language": "python",
   "name": "python3"
  },
  "language_info": {
   "codemirror_mode": {
    "name": "ipython",
    "version": 3
   },
   "file_extension": ".py",
   "mimetype": "text/x-python",
   "name": "python",
   "nbconvert_exporter": "python",
   "pygments_lexer": "ipython3",
   "version": "3.8.12"
  },
  "orig_nbformat": 4
 },
 "nbformat": 4,
 "nbformat_minor": 2
}
