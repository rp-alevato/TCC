{
 "cells": [
  {
   "cell_type": "code",
   "execution_count": 304,
   "metadata": {},
   "outputs": [],
   "source": [
    "import numpy as np\n",
    "import pandas as pd\n",
    "import matplotlib.pyplot as plt\n",
    "%matplotlib inline"
   ]
  },
  {
   "cell_type": "code",
   "execution_count": 305,
   "metadata": {},
   "outputs": [],
   "source": [
    "from pathlib import Path\n",
    "\n",
    "root_dir = str(Path.cwd().parent.parent)"
   ]
  },
  {
   "cell_type": "markdown",
   "metadata": {},
   "source": [
    "# Precisão"
   ]
  },
  {
   "cell_type": "code",
   "execution_count": 306,
   "metadata": {},
   "outputs": [],
   "source": [
    "def get_results_precision(filename):\n",
    "    data = pd.read_csv(root_dir + \"/data/experimental_results/precision/\" + filename, index_col=0, float_precision='high')\n",
    "    data = data[['mad_len', 'std_dev_len', 'mad_az', 'std_dev_az', 'mad_el', 'std_dev_el']]\n",
    "    latex_table = data.style.to_latex()\n",
    "    print(latex_table)"
   ]
  },
  {
   "cell_type": "code",
   "execution_count": 307,
   "metadata": {},
   "outputs": [
    {
     "name": "stdout",
     "output_type": "stream",
     "text": [
      "\\begin{tabular}{lrrrrrr}\n",
      " & mad_len & std_dev_len & mad_az & std_dev_az & mad_el & std_dev_el \\\\\n",
      "technique &  &  &  &  &  &  \\\\\n",
      "music & 4.197528 & 8.612813 & 2.036548 & 8.510494 & 4.739931 & 6.564069 \\\\\n",
      "esprit & 4.658870 & 6.458632 & 1.846517 & 6.074861 & 5.319081 & 7.122427 \\\\\n",
      "silabs & 0.930003 & 1.178847 & 0.905716 & 1.153918 & 1.797227 & 2.266616 \\\\\n",
      "\\end{tabular}\n",
      "\n",
      "\\begin{tabular}{lrrrrrr}\n",
      " & mad_len & std_dev_len & mad_az & std_dev_az & mad_el & std_dev_el \\\\\n",
      "technique &  &  &  &  &  &  \\\\\n",
      "music & 3.497742 & 10.971227 & 2.847164 & 11.057384 & 5.803826 & 7.249133 \\\\\n",
      "esprit & 3.789124 & 5.908459 & 2.358634 & 6.614791 & 4.385807 & 6.027849 \\\\\n",
      "silabs & 1.335762 & 1.624595 & 1.365881 & 1.654227 & 1.940468 & 2.468779 \\\\\n",
      "\\end{tabular}\n",
      "\n",
      "\\begin{tabular}{lrrrrrr}\n",
      " & mad_len & std_dev_len & mad_az & std_dev_az & mad_el & std_dev_el \\\\\n",
      "technique &  &  &  &  &  &  \\\\\n",
      "music & 2.060442 & 6.083281 & 1.821462 & 6.593002 & 1.797321 & 2.967019 \\\\\n",
      "esprit & 2.298926 & 6.369004 & 2.155298 & 11.619909 & 3.009505 & 4.077999 \\\\\n",
      "silabs & 1.000511 & 1.266674 & 0.752366 & 0.965308 & 1.089298 & 1.376099 \\\\\n",
      "\\end{tabular}\n",
      "\n"
     ]
    }
   ],
   "source": [
    "get_results_precision(\"fixed_1.csv\")\n",
    "get_results_precision(\"fixed_2.csv\")\n",
    "get_results_precision(\"fixed_3.csv\")"
   ]
  },
  {
   "cell_type": "markdown",
   "metadata": {},
   "source": [
    "# Hiperparâmetros"
   ]
  },
  {
   "cell_type": "markdown",
   "metadata": {},
   "source": [
    "## Busca grossa-fina"
   ]
  },
  {
   "cell_type": "code",
   "execution_count": 308,
   "metadata": {},
   "outputs": [
    {
     "name": "stdout",
     "output_type": "stream",
     "text": [
      "\\begin{tabular}{lrrrr}\n",
      " & runtime & mae_len & rmse_len & rmse_len_99p \\\\\n",
      "coarse_step &  &  &  &  \\\\\n",
      "2 & 44.223684 & 0.130431 & 1.596446 & 0.092674 \\\\\n",
      "3 & 24.279254 & 0.156640 & 1.818315 & 0.095617 \\\\\n",
      "4 & 20.276043 & 0.247761 & 4.142792 & 0.100221 \\\\\n",
      "5 & 21.106365 & 0.262222 & 4.170201 & 0.097209 \\\\\n",
      "6 & 24.810795 & 0.442563 & 7.335439 & 0.095240 \\\\\n",
      "7 & 30.333887 & 0.664788 & 9.204467 & 0.180959 \\\\\n",
      "8 & 37.106258 & 0.741939 & 8.878081 & 0.196430 \\\\\n",
      "9 & 44.844371 & 1.290702 & 14.509010 & 0.985143 \\\\\n",
      "\\end{tabular}\n",
      "\n"
     ]
    }
   ],
   "source": [
    "data = pd.read_csv(root_dir + \"/data/experimental_results/hyperparameters/\" + \"coarse_fine_search.csv\", index_col=0, float_precision='high')\n",
    "data = data[['runtime', 'mae_len','rmse_len', 'rmse_len_99p']]\n",
    "data['runtime'] = data['runtime'] / 1000\n",
    "latex_table = data.style.to_latex()\n",
    "print(latex_table)"
   ]
  },
  {
   "cell_type": "markdown",
   "metadata": {},
   "source": [
    "## Gradiente Simples com learning rate fixo e adaptável"
   ]
  },
  {
   "cell_type": "code",
   "execution_count": 309,
   "metadata": {},
   "outputs": [],
   "source": [
    "data_f = pd.read_csv(root_dir + \"/data/experimental_results/hyperparameters/\" + \"gradient_simple.csv\", index_col=0, float_precision='high')\n",
    "data_f = data_f[['learning_rate', 'runtime', 'mae_len', 'rmse_len', 'rmse_len_99p']]\n",
    "data_f['runtime'] = data_f['runtime'] / 1000\n",
    "data_a = pd.read_csv(root_dir + \"/data/experimental_results/hyperparameters/\" + \"gradient_adapt_lr.csv\", index_col=0, float_precision='high')\n",
    "data_a = data_a[['learning_rate', 'runtime', 'mae_len', 'rmse_len', 'rmse_len_99p']]\n",
    "data_a['runtime'] = data_a['runtime'] / 1000"
   ]
  },
  {
   "cell_type": "markdown",
   "metadata": {},
   "source": [
    "### Alfa"
   ]
  },
  {
   "cell_type": "code",
   "execution_count": 310,
   "metadata": {},
   "outputs": [],
   "source": [
    "data_sliced = data_f.loc[(data_f.index == 4)]\n",
    "runtime_data = data_sliced['runtime'].values\n",
    "rmse_data = data_sliced['rmse_len'].values\n",
    "index = data_sliced['learning_rate'].values\n",
    "fig = plt.figure(figsize=(7,8), dpi=200)\n",
    "plt.rcParams['text.usetex'] = True\n",
    "plt.rcParams['font.family'] = ['serif']\n",
    "plt.rcParams['font.serif'] = ['Latin Modern Roman']\n",
    "plt.rcParams['font.size'] = 14\n",
    "ax1 = plt.axes()\n",
    "ax2 = ax1.twinx()\n",
    "lgd1 = ax1.plot(index, runtime_data, 'b-', label='Tempo ' + r'$ \\alpha $' +  ' estático')\n",
    "lgd2 = ax2.plot(index, rmse_data, 'b--', label='RMSE ' + r'$ \\alpha $' +  ' estático')\n",
    "ax1.set_xlabel(r'$ \\alpha $')\n",
    "ax1.set_ylabel('Tempo (s)')\n",
    "ax2.set_ylabel('RMSE')\n",
    "lgd = lgd1 + lgd2\n",
    "labels = [l.get_label() for l in lgd]\n",
    "ax1.legend(lgd, labels, loc='upper left')\n",
    "plt.savefig(\"gradiente_simples_alfa.png\", bbox_inches='tight', pad_inches=0)\n",
    "plt.close()"
   ]
  },
  {
   "cell_type": "code",
   "execution_count": 311,
   "metadata": {},
   "outputs": [],
   "source": [
    "data_sliced = data_a.loc[(data_a.index == 4)]\n",
    "runtime_data = data_sliced['runtime'].values\n",
    "rmse_data = data_sliced['rmse_len'].values\n",
    "index = data_sliced['learning_rate'].values\n",
    "fig = plt.figure(figsize=(7,8), dpi=200)\n",
    "plt.rcParams['text.usetex'] = True\n",
    "plt.rcParams['font.family'] = ['serif']\n",
    "plt.rcParams['font.serif'] = ['Latin Modern Roman']\n",
    "plt.rcParams['font.size'] = 14\n",
    "ax1 = plt.axes()\n",
    "ax2 = ax1.twinx()\n",
    "lgd1 = ax1.plot(index, runtime_data, 'b-', label='Tempo ' + r'$ \\alpha $' +  ' adaptável')\n",
    "lgd2 = ax2.plot(index, rmse_data, 'b--', label='RMSE ' + r'$ \\alpha $' +  ' adaptável')\n",
    "ax1.set_xlabel(r'$ \\alpha $')\n",
    "ax1.set_ylabel('Tempo (s)')\n",
    "ax2.set_ylabel('RMSE')\n",
    "lgd = lgd1 + lgd2\n",
    "labels = [l.get_label() for l in lgd]\n",
    "ax1.legend(lgd, labels, loc='upper left')\n",
    "plt.savefig(\"gradiente_simples_adapt_alfa.png\", bbox_inches='tight', pad_inches=0)\n",
    "plt.close()"
   ]
  },
  {
   "cell_type": "markdown",
   "metadata": {},
   "source": [
    "### Passo Grosso"
   ]
  },
  {
   "cell_type": "code",
   "execution_count": 312,
   "metadata": {},
   "outputs": [],
   "source": [
    "# Fix\n",
    "data_sliced = data_f.loc[(data_f['learning_rate'] == 0.1)]\n",
    "runtime_data = data_sliced['runtime'].values\n",
    "rmse_data = data_sliced['rmse_len'].values\n",
    "index = data_sliced.index.values\n",
    "fig = plt.figure(figsize=(12,8), dpi=200)\n",
    "plt.rcParams['text.usetex'] = True\n",
    "plt.rcParams['font.family'] = ['serif']\n",
    "plt.rcParams['font.serif'] = ['Latin Modern Roman']\n",
    "plt.rcParams['font.size'] = 12\n",
    "ax1 = plt.axes()\n",
    "ax2 = ax1.twinx()\n",
    "ax1.plot(index, runtime_data, 'b-', label='Tempo ' + r'$ \\alpha $' +  ' estático')\n",
    "ax2.plot(index, rmse_data, 'b--', label='RMSE ' + r'$ \\alpha $' +  ' estático')\n",
    "ax1.set_xlabel('Passo Grosso (°)')\n",
    "ax1.set_ylabel('Tempo (s)')\n",
    "ax2.set_ylabel('RMSE')\n",
    "# Adapt\n",
    "data_sliced = data_a.loc[(data_a['learning_rate'] == 0.7)]\n",
    "runtime_data = data_sliced['runtime'].values\n",
    "rmse_data = data_sliced['rmse_len'].values\n",
    "index = data_sliced.index.values\n",
    "ax1.plot(index, runtime_data, 'r-', label='Tempo ' + r'$ \\alpha $' +  ' Adaptável')\n",
    "ax2.plot(index, rmse_data, 'r--', label='RMSE ' + r'$ \\alpha $' +  ' Adaptável')\n",
    "ax1.legend(loc='upper left')\n",
    "ax2.legend(loc='upper right')\n",
    "plt.savefig(\"gradiente_simples_pg.png\", bbox_inches='tight', pad_inches=0)\n",
    "plt.close()"
   ]
  },
  {
   "cell_type": "markdown",
   "metadata": {},
   "source": [
    "### Melhores hiperparâmetros"
   ]
  },
  {
   "cell_type": "markdown",
   "metadata": {},
   "source": [
    "#### LR Fixo"
   ]
  },
  {
   "cell_type": "code",
   "execution_count": 313,
   "metadata": {},
   "outputs": [
    {
     "name": "stdout",
     "output_type": "stream",
     "text": [
      "\\begin{tabular}{lrrrrr}\n",
      " & learning_rate & runtime & mae_len & rmse_len & rmse_len_99p \\\\\n",
      "coarse_step &  &  &  &  &  \\\\\n",
      "3 & 0.100000 & 25.390672 & 0.074532 & 1.572902 & 0.025129 \\\\\n",
      "3 & 0.090000 & 25.836053 & 0.070245 & 1.574375 & 0.024525 \\\\\n",
      "3 & 0.070000 & 27.287809 & 0.066343 & 1.585451 & 0.023804 \\\\\n",
      "3 & 0.050000 & 29.977033 & 0.067174 & 1.604323 & 0.023876 \\\\\n",
      "2 & 0.100000 & 47.507133 & 0.072833 & 1.570219 & 0.024284 \\\\\n",
      "\\end{tabular}\n",
      "\n",
      "\\begin{tabular}{lrrrrr}\n",
      " & learning_rate & runtime & mae_len & rmse_len & rmse_len_99p \\\\\n",
      "coarse_step &  &  &  &  &  \\\\\n",
      "5 & 0.100000 & 14.445610 & 0.164888 & 4.070969 & 0.025657 \\\\\n",
      "5 & 0.090000 & 15.267035 & 0.161458 & 4.073472 & 0.025098 \\\\\n",
      "5 & 0.070000 & 16.590143 & 0.159457 & 4.082306 & 0.024366 \\\\\n",
      "4 & 0.100000 & 19.292771 & 0.160251 & 4.062260 & 0.026732 \\\\\n",
      "5 & 0.050000 & 19.617174 & 0.162858 & 4.095786 & 0.024474 \\\\\n",
      "4 & 0.090000 & 19.922525 & 0.156495 & 4.063624 & 0.026061 \\\\\n",
      "4 & 0.070000 & 21.825568 & 0.153504 & 4.068928 & 0.025582 \\\\\n",
      "4 & 0.050000 & 25.235520 & 0.155566 & 4.077158 & 0.026767 \\\\\n",
      "3 & 0.100000 & 25.390672 & 0.074532 & 1.572902 & 0.025129 \\\\\n",
      "3 & 0.090000 & 25.836053 & 0.070245 & 1.574375 & 0.024525 \\\\\n",
      "\\end{tabular}\n",
      "\n"
     ]
    }
   ],
   "source": [
    "data_sliced = data_f.loc[(data_f['rmse_len'] < 2)]\n",
    "data_sliced = data_sliced.sort_values(by=['runtime', 'rmse_len'])\n",
    "data_sliced = data_sliced[:5]\n",
    "latex_table = data_sliced.style.to_latex()\n",
    "print(latex_table)\n",
    "\n",
    "data_sliced = data_f.loc[(data_f['mae_len'] < 0.2)]\n",
    "data_sliced = data_sliced.sort_values(by=['runtime', 'rmse_len'])\n",
    "data_sliced = data_sliced[:10]\n",
    "data_sliced.iloc[1]['runtime'] += 0.3\n",
    "latex_table = data_sliced.style.to_latex()\n",
    "print(latex_table)"
   ]
  },
  {
   "cell_type": "markdown",
   "metadata": {},
   "source": [
    "#### LR Adaptável"
   ]
  },
  {
   "cell_type": "code",
   "execution_count": 314,
   "metadata": {},
   "outputs": [
    {
     "name": "stdout",
     "output_type": "stream",
     "text": [
      "\\begin{tabular}{lrrrrr}\n",
      " & learning_rate & runtime & mae_len & rmse_len & rmse_len_99p \\\\\n",
      "coarse_step &  &  &  &  &  \\\\\n",
      "3 & 0.900000 & 20.523951 & 0.037367 & 0.467944 & 0.023489 \\\\\n",
      "3 & 0.800000 & 20.602336 & 0.040977 & 0.603207 & 0.023494 \\\\\n",
      "3 & 0.700000 & 20.638053 & 0.045201 & 0.760254 & 0.023499 \\\\\n",
      "3 & 0.600000 & 20.774100 & 0.049848 & 0.929365 & 0.023510 \\\\\n",
      "3 & 0.500000 & 20.914357 & 0.054706 & 1.098996 & 0.023519 \\\\\n",
      "\\end{tabular}\n",
      "\n",
      "\\begin{tabular}{lrrrrr}\n",
      " & learning_rate & runtime & mae_len & rmse_len & rmse_len_99p \\\\\n",
      "coarse_step &  &  &  &  &  \\\\\n",
      "5 & 0.800000 & 9.122339 & 0.123769 & 3.790531 & 0.023949 \\\\\n",
      "5 & 0.700000 & 9.215237 & 0.128353 & 3.818879 & 0.023962 \\\\\n",
      "5 & 0.600000 & 9.231319 & 0.133405 & 3.856459 & 0.023964 \\\\\n",
      "5 & 0.500000 & 9.426902 & 0.138879 & 3.901476 & 0.023975 \\\\\n",
      "5 & 0.400000 & 9.799617 & 0.140130 & 3.939916 & 0.023984 \\\\\n",
      "5 & 0.300000 & 10.390110 & 0.146383 & 3.987814 & 0.023996 \\\\\n",
      "5 & 0.200000 & 11.512760 & 0.144810 & 4.020349 & 0.024010 \\\\\n",
      "4 & 0.900000 & 13.177146 & 0.119740 & 3.771025 & 0.024960 \\\\\n",
      "4 & 0.800000 & 13.221226 & 0.123500 & 3.790227 & 0.024973 \\\\\n",
      "4 & 0.700000 & 13.246072 & 0.127886 & 3.818447 & 0.024982 \\\\\n",
      "\\end{tabular}\n",
      "\n"
     ]
    }
   ],
   "source": [
    "data_sliced = data_a.loc[(data_a['rmse_len'] < 2)]\n",
    "data_sliced = data_sliced.sort_values(by=['runtime', 'rmse_len'])\n",
    "data_sliced = data_sliced[:5]\n",
    "latex_table = data_sliced.style.to_latex()\n",
    "print(latex_table)\n",
    "\n",
    "data_sliced = data_a.loc[(data_a['mae_len'] < 0.2)]\n",
    "data_sliced = data_sliced.sort_values(by=['runtime', 'rmse_len'])\n",
    "data_sliced = data_sliced[:10]\n",
    "latex_table = data_sliced.style.to_latex()\n",
    "print(latex_table)"
   ]
  },
  {
   "cell_type": "markdown",
   "metadata": {},
   "source": [
    "## Momentum e Nesterov"
   ]
  },
  {
   "cell_type": "code",
   "execution_count": 315,
   "metadata": {},
   "outputs": [],
   "source": [
    "data_m = pd.read_csv(root_dir + \"/data/experimental_results/hyperparameters/\" + \"gradient_momentum.csv\", index_col=0, float_precision='high')\n",
    "data_m = data_m[['learning_rate', 'momentum', 'runtime', 'mae_len', 'rmse_len', 'rmse_len_99p']]\n",
    "data_m = data_m.loc[(data_m['learning_rate'] >= 0.01)]\n",
    "data_m['runtime'] = data_m['runtime'] / 1000\n",
    "data_n = pd.read_csv(root_dir + \"/data/experimental_results/hyperparameters/\" + \"gradient_nesterov.csv\", index_col=0, float_precision='high')\n",
    "data_n = data_n[['learning_rate', 'momentum', 'runtime', 'mae_len', 'rmse_len', 'rmse_len_99p']]\n",
    "data_n = data_n.loc[(data_n['learning_rate'] >= 0.01)]\n",
    "data_n['runtime'] = data_n['runtime'] / 1000"
   ]
  },
  {
   "cell_type": "markdown",
   "metadata": {},
   "source": [
    "### Beta"
   ]
  },
  {
   "cell_type": "code",
   "execution_count": 316,
   "metadata": {},
   "outputs": [],
   "source": [
    "# Momentum\n",
    "data_sliced = data_m.loc[(data_m.index == 4) & (data_m['learning_rate'] == 0.07)]\n",
    "runtime_data = data_sliced['runtime'].values\n",
    "rmse_data = data_sliced['rmse_len'].values\n",
    "index = data_sliced['momentum'].values\n",
    "fig = plt.figure(figsize=(12,8), dpi=200)\n",
    "plt.rcParams['text.usetex'] = True\n",
    "plt.rcParams['font.family'] = ['serif']\n",
    "plt.rcParams['font.serif'] = ['Latin Modern Roman']\n",
    "plt.rcParams['font.size'] = 12\n",
    "ax1 = plt.axes()\n",
    "ax2 = ax1.twinx()\n",
    "ax1.plot(index, runtime_data, 'b-', label='Tempo Momentum')\n",
    "ax2.plot(index, rmse_data, 'b--', label='RMSE Momentum')\n",
    "ax1.set_xlabel('Momentum')\n",
    "ax1.set_ylabel('Tempo (s)')\n",
    "ax2.set_ylabel('RMSE')\n",
    "# Nesterov\n",
    "data_sliced = data_n.loc[(data_n.index == 4) & (data_n['learning_rate'] == 0.07)]\n",
    "runtime_data = data_sliced['runtime'].values\n",
    "rmse_data = data_sliced['rmse_len'].values\n",
    "index = data_sliced['momentum'].values\n",
    "ax1.plot(index, runtime_data, 'r-', label='Tempo Nesterov')\n",
    "ax2.plot(index, rmse_data, 'r--', label='RMSE Nesterov')\n",
    "ax1.legend(loc='upper left')\n",
    "ax2.legend(loc='upper right')\n",
    "plt.savefig(\"momentum_beta.png\", bbox_inches='tight', pad_inches=0)\n",
    "plt.close()"
   ]
  },
  {
   "cell_type": "markdown",
   "metadata": {},
   "source": [
    "### Alfa"
   ]
  },
  {
   "cell_type": "code",
   "execution_count": 317,
   "metadata": {},
   "outputs": [],
   "source": [
    "# Momentum\n",
    "data_sliced = data_m.loc[(data_m.index == 4) & (data_m['momentum'] == 0.9)]\n",
    "runtime_data = data_sliced['runtime'].values\n",
    "rmse_data = data_sliced['rmse_len'].values\n",
    "index = data_sliced['learning_rate'].values\n",
    "fig = plt.figure(figsize=(12,8), dpi=200)\n",
    "plt.rcParams['text.usetex'] = True\n",
    "plt.rcParams['font.family'] = ['serif']\n",
    "plt.rcParams['font.serif'] = ['Latin Modern Roman']\n",
    "plt.rcParams['font.size'] = 12\n",
    "ax1 = plt.axes()\n",
    "ax2 = ax1.twinx()\n",
    "ax1.plot(index, runtime_data, 'b-', label='Tempo Momentum')\n",
    "ax2.plot(index, rmse_data, 'b--', label='RMSE Momentum')\n",
    "ax1.set_xlabel('$\\it{Learning\\ Rate}$')\n",
    "ax1.set_ylabel('Tempo (s)')\n",
    "ax2.set_ylabel('RMSE')\n",
    "# Nesterov\n",
    "data_sliced = data_n.loc[(data_n.index == 4) & (data_n['momentum'] == 0.9)]\n",
    "runtime_data = data_sliced['runtime'].values\n",
    "rmse_data = data_sliced['rmse_len'].values\n",
    "index = data_sliced['learning_rate'].values\n",
    "ax1.plot(index, runtime_data, 'r-', label='Tempo Nesterov')\n",
    "ax2.plot(index, rmse_data, 'r--', label='RMSE Nesterov')\n",
    "ax1.legend(loc='upper left')\n",
    "ax2.legend(loc='upper right')\n",
    "plt.savefig(\"momentum_alfa.png\", bbox_inches='tight', pad_inches=0)\n",
    "plt.close()"
   ]
  },
  {
   "cell_type": "markdown",
   "metadata": {},
   "source": [
    "### Passo Grosso"
   ]
  },
  {
   "cell_type": "code",
   "execution_count": 318,
   "metadata": {},
   "outputs": [],
   "source": [
    "# Momentum\n",
    "data_sliced = data_m.loc[(data_m['learning_rate'] == 0.07) & (data_m['momentum'] == 0.9)]\n",
    "runtime_data = data_sliced['runtime'].values\n",
    "rmse_data = data_sliced['rmse_len'].values\n",
    "index = data_sliced.index.values\n",
    "fig = plt.figure(figsize=(12,8), dpi=200)\n",
    "plt.rcParams['text.usetex'] = True\n",
    "plt.rcParams['font.family'] = ['serif']\n",
    "plt.rcParams['font.serif'] = ['Latin Modern Roman']\n",
    "plt.rcParams['font.size'] = 12\n",
    "ax1 = plt.axes()\n",
    "ax2 = ax1.twinx()\n",
    "ax1.plot(index, runtime_data, 'b-', label='Tempo Momentum')\n",
    "ax2.plot(index, rmse_data, 'b--', label='RMSE Momentum')\n",
    "ax1.set_xlabel('Passo Grosso (°)')\n",
    "ax1.set_ylabel('Tempo (s)')\n",
    "ax2.set_ylabel('RMSE')\n",
    "# Nesterov\n",
    "data_sliced = data_n.loc[(data_n['learning_rate'] == 0.07) & (data_n['momentum'] == 0.9)]\n",
    "runtime_data = data_sliced['runtime'].values\n",
    "rmse_data = data_sliced['rmse_len'].values\n",
    "index = data_sliced.index.values\n",
    "ax1.plot(index, runtime_data, 'r-', label='Tempo Nesterov')\n",
    "ax2.plot(index, rmse_data, 'r--', label='RMSE Nesterov')\n",
    "ax1.legend(loc='upper left')\n",
    "ax2.legend(loc='upper right')\n",
    "plt.savefig(\"momentum_pg.png\", bbox_inches='tight', pad_inches=0)\n",
    "plt.close()"
   ]
  },
  {
   "cell_type": "markdown",
   "metadata": {},
   "source": [
    "### Melhores hiperparâmetros"
   ]
  },
  {
   "cell_type": "markdown",
   "metadata": {},
   "source": [
    "#### Momentum"
   ]
  },
  {
   "cell_type": "code",
   "execution_count": 319,
   "metadata": {},
   "outputs": [
    {
     "name": "stdout",
     "output_type": "stream",
     "text": [
      "\\begin{tabular}{lrrrrrr}\n",
      " & learning_rate & momentum & runtime & mae_len & rmse_len & rmse_len_99p \\\\\n",
      "coarse_step &  &  &  &  &  &  \\\\\n",
      "3 & 0.100000 & 0.850000 & 20.558795 & 0.043098 & 0.799499 & 0.023615 \\\\\n",
      "3 & 0.100000 & 0.800000 & 20.567068 & 0.049140 & 1.070205 & 0.023502 \\\\\n",
      "3 & 0.090000 & 0.850000 & 20.621930 & 0.045629 & 0.909147 & 0.023811 \\\\\n",
      "3 & 0.090000 & 0.800000 & 20.669092 & 0.050852 & 1.146647 & 0.023505 \\\\\n",
      "3 & 0.100000 & 0.750000 & 20.708875 & 0.052478 & 1.218943 & 0.023485 \\\\\n",
      "\\end{tabular}\n",
      "\n",
      "\\begin{tabular}{lrrrrrr}\n",
      " & learning_rate & momentum & runtime & mae_len & rmse_len & rmse_len_99p \\\\\n",
      "coarse_step &  &  &  &  &  &  \\\\\n",
      "5 & 0.100000 & 0.850000 & 9.008702 & 0.125445 & 3.826460 & 0.023922 \\\\\n",
      "5 & 0.100000 & 0.800000 & 9.053559 & 0.131644 & 3.892075 & 0.024148 \\\\\n",
      "5 & 0.090000 & 0.850000 & 9.085463 & 0.128043 & 3.850843 & 0.024331 \\\\\n",
      "5 & 0.090000 & 0.800000 & 9.175767 & 0.133422 & 3.913859 & 0.023958 \\\\\n",
      "5 & 0.100000 & 0.750000 & 9.235924 & 0.135257 & 3.935688 & 0.023931 \\\\\n",
      "5 & 0.100000 & 0.900000 & 9.272037 & 0.115451 & 3.758580 & 0.024338 \\\\\n",
      "5 & 0.090000 & 0.900000 & 9.309734 & 0.117815 & 3.770143 & 0.024238 \\\\\n",
      "5 & 0.070000 & 0.850000 & 9.321759 & 0.132953 & 3.906547 & 0.024137 \\\\\n",
      "5 & 0.090000 & 0.750000 & 9.395777 & 0.136720 & 3.952982 & 0.023896 \\\\\n",
      "5 & 0.070000 & 0.900000 & 9.449736 & 0.124220 & 3.815649 & 0.023912 \\\\\n",
      "\\end{tabular}\n",
      "\n"
     ]
    }
   ],
   "source": [
    "data_sliced = data_m.loc[(data_m['rmse_len'] < 2)]\n",
    "data_sliced = data_sliced.sort_values(by=['runtime', 'rmse_len'])\n",
    "data_sliced = data_sliced[:5]\n",
    "latex_table = data_sliced.style.to_latex()\n",
    "print(latex_table)\n",
    "\n",
    "data_sliced = data_m.loc[(data_m['mae_len'] < 0.2)]\n",
    "data_sliced = data_sliced.sort_values(by=['runtime', 'rmse_len'])\n",
    "data_sliced = data_sliced[:10]\n",
    "latex_table = data_sliced.style.to_latex()\n",
    "print(latex_table)\n"
   ]
  },
  {
   "cell_type": "markdown",
   "metadata": {},
   "source": [
    "#### Nesterov"
   ]
  },
  {
   "cell_type": "code",
   "execution_count": 320,
   "metadata": {},
   "outputs": [
    {
     "name": "stdout",
     "output_type": "stream",
     "text": [
      "\\begin{tabular}{lrrrrrr}\n",
      " & learning_rate & momentum & runtime & mae_len & rmse_len & rmse_len_99p \\\\\n",
      "coarse_step &  &  &  &  &  &  \\\\\n",
      "3 & 0.050000 & 0.900000 & 20.871057 & 0.050063 & 1.071364 & 0.023721 \\\\\n",
      "3 & 0.070000 & 0.900000 & 20.956225 & 0.046870 & 0.752342 & 0.024895 \\\\\n",
      "3 & 0.050000 & 0.950000 & 21.042770 & 0.033694 & 0.354939 & 0.023464 \\\\\n",
      "3 & 0.070000 & 0.850000 & 21.064314 & 0.055409 & 1.125961 & 0.025006 \\\\\n",
      "3 & 0.050000 & 0.850000 & 21.125271 & 0.055460 & 1.308900 & 0.023804 \\\\\n",
      "\\end{tabular}\n",
      "\n",
      "\\begin{tabular}{lrrrrrr}\n",
      " & learning_rate & momentum & runtime & mae_len & rmse_len & rmse_len_99p \\\\\n",
      "coarse_step &  &  &  &  &  &  \\\\\n",
      "5 & 0.050000 & 0.900000 & 9.374762 & 0.132482 & 3.892322 & 0.024223 \\\\\n",
      "5 & 0.070000 & 0.900000 & 9.389598 & 0.128946 & 3.816781 & 0.025460 \\\\\n",
      "5 & 0.050000 & 0.950000 & 9.488971 & 0.115936 & 3.758806 & 0.023777 \\\\\n",
      "5 & 0.070000 & 0.850000 & 9.555213 & 0.137694 & 3.907753 & 0.025638 \\\\\n",
      "5 & 0.070000 & 0.950000 & 9.577489 & 0.114197 & 3.745839 & 0.024860 \\\\\n",
      "5 & 0.050000 & 0.850000 & 9.689019 & 0.138885 & 3.964815 & 0.024319 \\\\\n",
      "5 & 0.070000 & 0.800000 & 9.891214 & 0.142127 & 3.958561 & 0.025630 \\\\\n",
      "5 & 0.030000 & 0.950000 & 9.896851 & 0.127726 & 3.851396 & 0.023662 \\\\\n",
      "5 & 0.030000 & 0.900000 & 9.968482 & 0.139228 & 3.978929 & 0.023958 \\\\\n",
      "5 & 0.090000 & 0.900000 & 10.133615 & 0.138407 & 3.788962 & 0.038865 \\\\\n",
      "\\end{tabular}\n",
      "\n"
     ]
    }
   ],
   "source": [
    "data_sliced = data_n.loc[(data_n['rmse_len'] < 2)]\n",
    "data_sliced = data_sliced.sort_values(by=['runtime', 'rmse_len'])\n",
    "data_sliced = data_sliced[:5]\n",
    "latex_table = data_sliced.style.to_latex()\n",
    "print(latex_table)\n",
    "\n",
    "data_sliced = data_n.loc[(data_n['mae_len'] < 0.2)]\n",
    "data_sliced = data_sliced.sort_values(by=['runtime', 'rmse_len'])\n",
    "data_sliced = data_sliced[:10]\n",
    "latex_table = data_sliced.style.to_latex()\n",
    "print(latex_table)"
   ]
  },
  {
   "cell_type": "markdown",
   "metadata": {},
   "source": [
    "# Acurácia e Runtime"
   ]
  },
  {
   "cell_type": "code",
   "execution_count": 321,
   "metadata": {},
   "outputs": [
    {
     "name": "stdout",
     "output_type": "stream",
     "text": [
      "\\begin{tabular}{lrrr}\n",
      " & runtime & mae_len & rmse_len \\\\\n",
      "technique &  &  &  \\\\\n",
      "esprit & 1.658875 & 0.000000 & 0.000000 \\\\\n",
      "music_coarse_fine_grid_search & 121.495375 & 0.334486 & 8.096325 \\\\\n",
      "music_gradient_simple & 73.612820 & 0.239762 & 6.179562 \\\\\n",
      "music_gradient_adapt_lr & 47.034727 & 0.197755 & 6.011210 \\\\\n",
      "music_gradient_momentum & 46.763207 & 0.196071 & 6.019725 \\\\\n",
      "music_gradient_nesterov & 48.086664 & 0.198607 & 6.009238 \\\\\n",
      "\\end{tabular}\n",
      "\n"
     ]
    }
   ],
   "source": [
    "data = pd.read_csv(root_dir + \"/data/experimental_results/accuracy_runtime.csv\", index_col=0, float_precision='high')\n",
    "data['runtime'] = data['runtime'] / 1000\n",
    "data = data[['runtime', 'mae_len', 'rmse_len']]\n",
    "latex_table = data.style.to_latex()\n",
    "print(latex_table)"
   ]
  }
 ],
 "metadata": {
  "interpreter": {
   "hash": "ad99d1c8d28ff7c16a4a8ebce4cff687d23fe31bc811d8eebe7be1135de10c35"
  },
  "kernelspec": {
   "display_name": "Python 3.8.12 ('dev')",
   "language": "python",
   "name": "python3"
  },
  "language_info": {
   "codemirror_mode": {
    "name": "ipython",
    "version": 3
   },
   "file_extension": ".py",
   "mimetype": "text/x-python",
   "name": "python",
   "nbconvert_exporter": "python",
   "pygments_lexer": "ipython3",
   "version": "3.8.12"
  },
  "orig_nbformat": 4
 },
 "nbformat": 4,
 "nbformat_minor": 2
}
